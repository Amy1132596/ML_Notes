{
  "nbformat": 4,
  "nbformat_minor": 0,
  "metadata": {
    "colab": {
      "name": "Binary Cross Entropy.ipynb",
      "provenance": [],
      "authorship_tag": "ABX9TyMSjI7B+Qib4qWXCinyUe2q",
      "include_colab_link": true
    },
    "kernelspec": {
      "name": "python3",
      "display_name": "Python 3"
    },
    "language_info": {
      "name": "python"
    }
  },
  "cells": [
    {
      "cell_type": "markdown",
      "metadata": {
        "id": "view-in-github",
        "colab_type": "text"
      },
      "source": [
        "<a href=\"https://colab.research.google.com/github/vitalfedorov/ML_Notes/blob/master/Binary_Cross_Entropy.ipynb\" target=\"_parent\"><img src=\"https://colab.research.google.com/assets/colab-badge.svg\" alt=\"Open In Colab\"/></a>"
      ]
    },
    {
      "cell_type": "code",
      "metadata": {
        "id": "cyLaU96DLQ21"
      },
      "source": [
        "import random\n",
        "\n",
        "import numpy as np\n",
        "import pandas as pd\n",
        "\n",
        "import matplotlib.pyplot as plt"
      ],
      "execution_count": 93,
      "outputs": []
    },
    {
      "cell_type": "markdown",
      "metadata": {
        "id": "VXYKbgKVLq_E"
      },
      "source": [
        "This notebook is based on the Shipra Saxena article 'Binary Cross Entropy/Log Loss for Binary Classification'. [Source](https://www.analyticsvidhya.com/blog/2021/03/binary-cross-entropy-log-loss-for-binary-classification/)"
      ]
    },
    {
      "cell_type": "markdown",
      "metadata": {
        "id": "iDGofAMkNQBD"
      },
      "source": [
        "### Binary Cross Entropy Definition\n",
        "\n",
        "Binary cross entropy compares each of predicted probabilities to the actual value (target), which can be either 0 or 1."
      ]
    },
    {
      "cell_type": "code",
      "metadata": {
        "id": "NY3yBYoxOEQD"
      },
      "source": [
        "n = 100\n",
        "np.random.seed(115)\n",
        "\n",
        "ids = [f'ID{i}' for i in range(n)]\n",
        "targets = np.random.randint(2, size=n)\n",
        "probs = np.random.uniform(low=0.0, high=1.0, size=100)"
      ],
      "execution_count": 19,
      "outputs": []
    },
    {
      "cell_type": "code",
      "metadata": {
        "id": "Y_-ddsVPLnMQ"
      },
      "source": [
        "d = {'ID': ids, 'Target': targets, 'Predicted probabilities': probs}\n",
        "ds = pd.DataFrame(data=d)"
      ],
      "execution_count": 118,
      "outputs": []
    },
    {
      "cell_type": "code",
      "metadata": {
        "colab": {
          "base_uri": "https://localhost:8080/",
          "height": 424
        },
        "id": "KQZE71e2NxOY",
        "outputId": "a3985ccd-1a51-4e3a-8aa0-3a02762f995a"
      },
      "source": [
        "ds"
      ],
      "execution_count": 119,
      "outputs": [
        {
          "output_type": "execute_result",
          "data": {
            "text/html": [
              "<div>\n",
              "<style scoped>\n",
              "    .dataframe tbody tr th:only-of-type {\n",
              "        vertical-align: middle;\n",
              "    }\n",
              "\n",
              "    .dataframe tbody tr th {\n",
              "        vertical-align: top;\n",
              "    }\n",
              "\n",
              "    .dataframe thead th {\n",
              "        text-align: right;\n",
              "    }\n",
              "</style>\n",
              "<table border=\"1\" class=\"dataframe\">\n",
              "  <thead>\n",
              "    <tr style=\"text-align: right;\">\n",
              "      <th></th>\n",
              "      <th>ID</th>\n",
              "      <th>Target</th>\n",
              "      <th>Predicted probabilities</th>\n",
              "    </tr>\n",
              "  </thead>\n",
              "  <tbody>\n",
              "    <tr>\n",
              "      <th>0</th>\n",
              "      <td>ID0</td>\n",
              "      <td>0</td>\n",
              "      <td>0.190259</td>\n",
              "    </tr>\n",
              "    <tr>\n",
              "      <th>1</th>\n",
              "      <td>ID1</td>\n",
              "      <td>0</td>\n",
              "      <td>0.364309</td>\n",
              "    </tr>\n",
              "    <tr>\n",
              "      <th>2</th>\n",
              "      <td>ID2</td>\n",
              "      <td>1</td>\n",
              "      <td>0.636945</td>\n",
              "    </tr>\n",
              "    <tr>\n",
              "      <th>3</th>\n",
              "      <td>ID3</td>\n",
              "      <td>0</td>\n",
              "      <td>0.860214</td>\n",
              "    </tr>\n",
              "    <tr>\n",
              "      <th>4</th>\n",
              "      <td>ID4</td>\n",
              "      <td>0</td>\n",
              "      <td>0.834129</td>\n",
              "    </tr>\n",
              "    <tr>\n",
              "      <th>...</th>\n",
              "      <td>...</td>\n",
              "      <td>...</td>\n",
              "      <td>...</td>\n",
              "    </tr>\n",
              "    <tr>\n",
              "      <th>95</th>\n",
              "      <td>ID95</td>\n",
              "      <td>1</td>\n",
              "      <td>0.548423</td>\n",
              "    </tr>\n",
              "    <tr>\n",
              "      <th>96</th>\n",
              "      <td>ID96</td>\n",
              "      <td>1</td>\n",
              "      <td>0.554190</td>\n",
              "    </tr>\n",
              "    <tr>\n",
              "      <th>97</th>\n",
              "      <td>ID97</td>\n",
              "      <td>0</td>\n",
              "      <td>0.955729</td>\n",
              "    </tr>\n",
              "    <tr>\n",
              "      <th>98</th>\n",
              "      <td>ID98</td>\n",
              "      <td>0</td>\n",
              "      <td>0.641395</td>\n",
              "    </tr>\n",
              "    <tr>\n",
              "      <th>99</th>\n",
              "      <td>ID99</td>\n",
              "      <td>1</td>\n",
              "      <td>0.661990</td>\n",
              "    </tr>\n",
              "  </tbody>\n",
              "</table>\n",
              "<p>100 rows × 3 columns</p>\n",
              "</div>"
            ],
            "text/plain": [
              "      ID  Target  Predicted probabilities\n",
              "0    ID0       0                 0.190259\n",
              "1    ID1       0                 0.364309\n",
              "2    ID2       1                 0.636945\n",
              "3    ID3       0                 0.860214\n",
              "4    ID4       0                 0.834129\n",
              "..   ...     ...                      ...\n",
              "95  ID95       1                 0.548423\n",
              "96  ID96       1                 0.554190\n",
              "97  ID97       0                 0.955729\n",
              "98  ID98       0                 0.641395\n",
              "99  ID99       1                 0.661990\n",
              "\n",
              "[100 rows x 3 columns]"
            ]
          },
          "metadata": {},
          "execution_count": 119
        }
      ]
    },
    {
      "cell_type": "markdown",
      "metadata": {
        "id": "Iy2CiuQAdRR6"
      },
      "source": [
        "Predicted probability is the output given by the model that tells, the probability object belongs to class 1. Hence, the probability that the model output belongs to class 0 is the 1 minus predicted probability. In the table below 'corr_prob' is the predicted probability that is corrected for classes.  \n",
        "\n",
        "Therefore the cross entropy is the sum of corrected logs:\n",
        "\n",
        "\\begin{equation*}\n",
        "CrossEntropy=-\\frac{1}{N}\\sum_{j=1}^N(log(p_i))\n",
        "\\end{equation*}\n",
        "\n",
        "Instead of calculating corrected probabilities, we can calculate the Log loss using the formula given below:\n",
        "\n",
        "\\begin{equation*}\n",
        "CrossEntropy=\\frac{1}{N}\\sum_{j=1}^N -(y_i*log(p_i)+(1-y_i)*log(1-p_i))\n",
        "\\end{equation*}"
      ]
    },
    {
      "cell_type": "code",
      "metadata": {
        "id": "uJYMr4n8Nyt_"
      },
      "source": [
        "ds['corr_prob'] = ds.apply(lambda row: row['Predicted probabilities'] if row['Target'] == 1 else 1 - row['Predicted probabilities'], axis=1)\n",
        "ds['log_corr_prob'] = np.log(ds['corr_prob'])\n",
        "\n",
        "ds['log_prob_1'] = ds.apply(lambda row: np.log(row['Predicted probabilities']) if row['Target'] == 1 else 0, axis=1)\n",
        "ds['log_prob_0'] = ds.apply(lambda row: np.log(1 - row['Predicted probabilities']) if row['Target'] == 0 else 0, axis=1)\n"
      ],
      "execution_count": 121,
      "outputs": []
    },
    {
      "cell_type": "code",
      "metadata": {
        "colab": {
          "base_uri": "https://localhost:8080/",
          "height": 424
        },
        "id": "33-Zeo6VOQP5",
        "outputId": "64dbfe11-045f-4fd3-b013-7d5f923a8ea5"
      },
      "source": [
        "ds"
      ],
      "execution_count": 122,
      "outputs": [
        {
          "output_type": "execute_result",
          "data": {
            "text/html": [
              "<div>\n",
              "<style scoped>\n",
              "    .dataframe tbody tr th:only-of-type {\n",
              "        vertical-align: middle;\n",
              "    }\n",
              "\n",
              "    .dataframe tbody tr th {\n",
              "        vertical-align: top;\n",
              "    }\n",
              "\n",
              "    .dataframe thead th {\n",
              "        text-align: right;\n",
              "    }\n",
              "</style>\n",
              "<table border=\"1\" class=\"dataframe\">\n",
              "  <thead>\n",
              "    <tr style=\"text-align: right;\">\n",
              "      <th></th>\n",
              "      <th>ID</th>\n",
              "      <th>Target</th>\n",
              "      <th>Predicted probabilities</th>\n",
              "      <th>corr_prob</th>\n",
              "      <th>log_corr_prob</th>\n",
              "      <th>log_prob_1</th>\n",
              "      <th>log_prob_0</th>\n",
              "    </tr>\n",
              "  </thead>\n",
              "  <tbody>\n",
              "    <tr>\n",
              "      <th>0</th>\n",
              "      <td>ID0</td>\n",
              "      <td>0</td>\n",
              "      <td>0.190259</td>\n",
              "      <td>0.809741</td>\n",
              "      <td>-0.211041</td>\n",
              "      <td>0.000000</td>\n",
              "      <td>-0.211041</td>\n",
              "    </tr>\n",
              "    <tr>\n",
              "      <th>1</th>\n",
              "      <td>ID1</td>\n",
              "      <td>0</td>\n",
              "      <td>0.364309</td>\n",
              "      <td>0.635691</td>\n",
              "      <td>-0.453043</td>\n",
              "      <td>0.000000</td>\n",
              "      <td>-0.453043</td>\n",
              "    </tr>\n",
              "    <tr>\n",
              "      <th>2</th>\n",
              "      <td>ID2</td>\n",
              "      <td>1</td>\n",
              "      <td>0.636945</td>\n",
              "      <td>0.636945</td>\n",
              "      <td>-0.451072</td>\n",
              "      <td>-0.451072</td>\n",
              "      <td>0.000000</td>\n",
              "    </tr>\n",
              "    <tr>\n",
              "      <th>3</th>\n",
              "      <td>ID3</td>\n",
              "      <td>0</td>\n",
              "      <td>0.860214</td>\n",
              "      <td>0.139786</td>\n",
              "      <td>-1.967642</td>\n",
              "      <td>0.000000</td>\n",
              "      <td>-1.967642</td>\n",
              "    </tr>\n",
              "    <tr>\n",
              "      <th>4</th>\n",
              "      <td>ID4</td>\n",
              "      <td>0</td>\n",
              "      <td>0.834129</td>\n",
              "      <td>0.165871</td>\n",
              "      <td>-1.796543</td>\n",
              "      <td>0.000000</td>\n",
              "      <td>-1.796543</td>\n",
              "    </tr>\n",
              "    <tr>\n",
              "      <th>...</th>\n",
              "      <td>...</td>\n",
              "      <td>...</td>\n",
              "      <td>...</td>\n",
              "      <td>...</td>\n",
              "      <td>...</td>\n",
              "      <td>...</td>\n",
              "      <td>...</td>\n",
              "    </tr>\n",
              "    <tr>\n",
              "      <th>95</th>\n",
              "      <td>ID95</td>\n",
              "      <td>1</td>\n",
              "      <td>0.548423</td>\n",
              "      <td>0.548423</td>\n",
              "      <td>-0.600708</td>\n",
              "      <td>-0.600708</td>\n",
              "      <td>0.000000</td>\n",
              "    </tr>\n",
              "    <tr>\n",
              "      <th>96</th>\n",
              "      <td>ID96</td>\n",
              "      <td>1</td>\n",
              "      <td>0.554190</td>\n",
              "      <td>0.554190</td>\n",
              "      <td>-0.590247</td>\n",
              "      <td>-0.590247</td>\n",
              "      <td>0.000000</td>\n",
              "    </tr>\n",
              "    <tr>\n",
              "      <th>97</th>\n",
              "      <td>ID97</td>\n",
              "      <td>0</td>\n",
              "      <td>0.955729</td>\n",
              "      <td>0.044271</td>\n",
              "      <td>-3.117420</td>\n",
              "      <td>0.000000</td>\n",
              "      <td>-3.117420</td>\n",
              "    </tr>\n",
              "    <tr>\n",
              "      <th>98</th>\n",
              "      <td>ID98</td>\n",
              "      <td>0</td>\n",
              "      <td>0.641395</td>\n",
              "      <td>0.358605</td>\n",
              "      <td>-1.025533</td>\n",
              "      <td>0.000000</td>\n",
              "      <td>-1.025533</td>\n",
              "    </tr>\n",
              "    <tr>\n",
              "      <th>99</th>\n",
              "      <td>ID99</td>\n",
              "      <td>1</td>\n",
              "      <td>0.661990</td>\n",
              "      <td>0.661990</td>\n",
              "      <td>-0.412505</td>\n",
              "      <td>-0.412505</td>\n",
              "      <td>0.000000</td>\n",
              "    </tr>\n",
              "  </tbody>\n",
              "</table>\n",
              "<p>100 rows × 7 columns</p>\n",
              "</div>"
            ],
            "text/plain": [
              "      ID  Target  ...  log_prob_1  log_prob_0\n",
              "0    ID0       0  ...    0.000000   -0.211041\n",
              "1    ID1       0  ...    0.000000   -0.453043\n",
              "2    ID2       1  ...   -0.451072    0.000000\n",
              "3    ID3       0  ...    0.000000   -1.967642\n",
              "4    ID4       0  ...    0.000000   -1.796543\n",
              "..   ...     ...  ...         ...         ...\n",
              "95  ID95       1  ...   -0.600708    0.000000\n",
              "96  ID96       1  ...   -0.590247    0.000000\n",
              "97  ID97       0  ...    0.000000   -3.117420\n",
              "98  ID98       0  ...    0.000000   -1.025533\n",
              "99  ID99       1  ...   -0.412505    0.000000\n",
              "\n",
              "[100 rows x 7 columns]"
            ]
          },
          "metadata": {},
          "execution_count": 122
        }
      ]
    },
    {
      "cell_type": "code",
      "metadata": {
        "colab": {
          "base_uri": "https://localhost:8080/"
        },
        "id": "9lDPnEz62aXw",
        "outputId": "7c005092-878c-4b6f-95c5-c2dce5070a7f"
      },
      "source": [
        "a = -np.sum(ds['log_corr_prob']) / len(ds)\n",
        "print(f'CrossEntropy (formula #1): {a:.2f}')\n",
        "\n",
        "b = np.sum(-ds['Target']*np.log(ds['Predicted probabilities']) + (1-ds['Target'])*np.log(1-ds['Predicted probabilities'])) / len(ds)\n",
        "print(f'CrossEntropy (formula #2): {b:.2f}')"
      ],
      "execution_count": 128,
      "outputs": [
        {
          "output_type": "stream",
          "name": "stdout",
          "text": [
            "CrossEntropy (formula #1): 1.12\n",
            "CrossEntropy (formula #2): 0.17\n"
          ]
        }
      ]
    },
    {
      "cell_type": "markdown",
      "metadata": {
        "id": "NFLS7KdeST7p"
      },
      "source": [
        "Finally, the graph below shows the range of possible loss values given target values 1 or 0."
      ]
    },
    {
      "cell_type": "code",
      "metadata": {
        "colab": {
          "base_uri": "https://localhost:8080/",
          "height": 388
        },
        "id": "OfLMkiZOW6pD",
        "outputId": "3c0a9677-f5df-4da0-ac73-8d77d91261cb"
      },
      "source": [
        "z = np.arange(0.01, 1, 0.01)\n",
        "\n",
        "plt.figure(figsize=(10, 6))\n",
        "plt.plot(z, -np.log(z), label='Predicted probabilities for 1')\n",
        "plt.plot(z, -np.log(1-z), label='Predicted probabilities for 0')\n",
        "plt.xlabel('Predicted Probability')\n",
        "plt.ylabel('Loss')\n",
        "plt.legend()\n",
        "plt.show()"
      ],
      "execution_count": 112,
      "outputs": [
        {
          "output_type": "display_data",
          "data": {
            "image/png": "[encoded data removed]",
            "text/plain": [
              "<Figure size 720x432 with 1 Axes>"
            ]
          },
          "metadata": {
            "needs_background": "light"
          }
        }
      ]
    },
    {
      "cell_type": "code",
      "metadata": {
        "id": "J2l7HYjUYsl8"
      },
      "source": [
        ""
      ],
      "execution_count": null,
      "outputs": []
    }
  ]
}
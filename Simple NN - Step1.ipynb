{
 "cells": [
  {
   "cell_type": "code",
   "execution_count": 122,
   "metadata": {},
   "outputs": [],
   "source": [
    "import numpy as np\n",
    "import matplotlib.pyplot as plt\n",
    "\n",
    "# делаем посев случайных чисел предсказуемым\n",
    "np.random.seed(12345)"
   ]
  },
  {
   "cell_type": "markdown",
   "metadata": {},
   "source": [
    "Функция сигмоида - это математическая функция, имеющая форму буквы \"S\", которая определяется следующей формулой: \n",
    "\n",
    "\\begin{equation*}\n",
    "g(z)=\\frac{1}{1+e^{-z}}\n",
    "\\end{equation*}\n",
    "\n",
    "Данную функцию используют в нейронных сетях в качестве [функции активации](https://en.wikipedia.org/wiki/Activation_function). Ниже представлен график функции сигмоида."
   ]
  },
  {
   "cell_type": "code",
   "execution_count": 123,
   "metadata": {},
   "outputs": [
    {
     "data": {
      "image/png": "[encoded data removed]",
      "text/plain": [
       "<Figure size 432x288 with 1 Axes>"
      ]
     },
     "metadata": {},
     "output_type": "display_data"
    }
   ],
   "source": [
    "# функция сигмоида\n",
    "def sigmoid(z):\n",
    "    a = 1/(1 + np.exp(-z))\n",
    "    return a\n",
    "\n",
    "t = np.arange(-10., 10., 0.1)\n",
    "\n",
    "plt.plot(sigmoid(t))\n",
    "plt.ylabel(\"y\")\n",
    "plt.xlabel(\"x\")\n",
    "plt.show()"
   ]
  },
  {
   "cell_type": "markdown",
   "metadata": {},
   "source": [
    "В качестве примера рассмотрим нейронную сеть, у которой один входной слой, один скрытый слой и один выходной слой. Входной слой состоит из вектора $\\vec{\\mathbf{x}}=[x_1, x_2, x_3]$, скрытый слой состоит из нейронов $[h_1, h_2, h_3, h_4]$, а выходной слой из одного нейрона $\\hat{y}$.<br><br>\n",
    "\n",
    "Далее, в качестве примера, определим данные для обучения нейронной сети. На вход нейронной сети будет подаваться обучающая выборка, которая является матрицей $\\text{x_train}$ размерности $\\text{[nrow x ncol]}$. Допустимые ответы определяются вектором $\\text{y_train}$. Для нейронной сети инициализируются матрицы весов скрытого слоя $w_1$ и выходного слоя $w_2$, а также вектора отклоней скрытого слоя $b_1$ и выходного слоя $b_2$."
   ]
  },
  {
   "cell_type": "code",
   "execution_count": 124,
   "metadata": {},
   "outputs": [],
   "source": [
    "# количество элементов вектора x\n",
    "ncol = 3\n",
    "# обучающая выборка будет состоять из nrow элементов\n",
    "nrow = 5\n",
    "# количество нейронов в скрытом слое сети\n",
    "n_hidden_layer = 4\n",
    "# количество нейронов в выходном слое сети\n",
    "n_output = 1"
   ]
  },
  {
   "cell_type": "code",
   "execution_count": 125,
   "metadata": {},
   "outputs": [
    {
     "name": "stdout",
     "output_type": "stream",
     "text": [
      "Обучающая выборка x_train:\n",
      "[[ 0.92961609  0.31637555  0.18391881]\n",
      " [ 0.20456028  0.56772503  0.5955447 ]\n",
      " [ 0.96451452  0.6531771   0.74890664]\n",
      " [ 0.65356987  0.74771481  0.96130674]\n",
      " [ 0.0083883   0.10644438  0.29870371]]\n",
      "\n",
      "Допустимые ответы y_train:\n",
      "[1 0 1 1 1]\n",
      "\n",
      "Матрица весов скрытого слоя w1:\n",
      "[[ 0.65641118  0.80981255  0.87217591]\n",
      " [ 0.9646476   0.72368535  0.64247533]\n",
      " [ 0.71745362  0.46759901  0.32558468]\n",
      " [ 0.43964461  0.72968908  0.99401459]]\n",
      "\n",
      "Отклонения скрытого слоя b1:\n",
      "[[ 0.]\n",
      " [ 0.]\n",
      " [ 0.]\n",
      " [ 0.]]\n",
      "\n",
      "Матрица весов выходного слоя w2:\n",
      "[[ 0.67687371  0.79082252  0.17091426  0.02684928]]\n",
      "\n",
      "Отклонения выходного слоя b2:\n",
      "[[ 0.]]\n"
     ]
    }
   ],
   "source": [
    "# обучающая матрица, состоящая из nrow строк и ncol столбцов, элементы матрицы - случайные числа\n",
    "x_train = (np.random.random((nrow, ncol)))\n",
    "\n",
    "# результат\n",
    "y_train = np.array([1, 0, 1, 1, 1])\n",
    "\n",
    "# веса скрытоко слоя сети\n",
    "w1 = np.random.random((n_hidden_layer, ncol))\n",
    "\n",
    "# отклонения скрытого слоя сети\n",
    "#b1 = np.random.random((n_hidden_layer, 1))\n",
    "b1 = np.zeros((n_hidden_layer, n_output))\n",
    "\n",
    "# веса выходного слоя сети\n",
    "w2 = np.random.random((n_output, n_hidden_layer))\n",
    "\n",
    "# отклонения выходного слоя сети\n",
    "b2 = np.zeros((n_output, n_output))\n",
    "\n",
    "print(\"Обучающая выборка x_train:\")\n",
    "print(x_train)\n",
    "print(\"\\nДопустимые ответы y_train:\")\n",
    "print(y_train)\n",
    "print(\"\\nМатрица весов скрытого слоя w1:\")\n",
    "print(w1)\n",
    "print(\"\\nОтклонения скрытого слоя b1:\")\n",
    "print(b1)\n",
    "print(\"\\nМатрица весов выходного слоя w2:\")\n",
    "print(w2)\n",
    "print(\"\\nОтклонения выходного слоя b2:\")\n",
    "print(b2)"
   ]
  },
  {
   "cell_type": "markdown",
   "metadata": {},
   "source": [
    "Опредилив обучающий данные и инициализировав переменные нейронные сети можно начинать ее обучение. Выполним один шаг прямого распространения для нашей нейронной сети. Для этого необходимо выполнить расчет по следующим уравнениям:<br><br>\n",
    "\n",
    "\\begin{equation*}\n",
    "z_1=w_1 x_{train}^T+b_1\n",
    "\\end{equation*}\n",
    "\n",
    "\\begin{equation*}\n",
    "a_1=g(z_1)\n",
    "\\end{equation*}\n",
    "\n",
    "\\begin{equation*}\n",
    "z_2=w_2 a_1+b_2 \n",
    "\\end{equation*}\n",
    "\n",
    "\\begin{equation*}\n",
    "\\hat{y}=g(z_2)\n",
    "\\end{equation*}\n",
    "<br><br>\n",
    "Здесь функция активации $\\sigma$ является функцией сигмоида $g(z)$, определенного выше."
   ]
  },
  {
   "cell_type": "code",
   "execution_count": 126,
   "metadata": {},
   "outputs": [
    {
     "name": "stdout",
     "output_type": "stream",
     "text": [
      "Скрытый слой:\n",
      "[[ 1.02682485  1.11344625  1.81524746  1.87294799  0.35222835]\n",
      " [ 1.24387158  0.99080564  1.88426535  1.78919072  0.27703375]\n",
      " [ 0.87477447  0.6061304   1.24125192  1.13152352  0.15304485]\n",
      " [ 0.82237447  1.0961767   1.64508392  1.78849072  0.37827502]]\n",
      "\n",
      "Активация скрытого слоя:\n",
      "[[ 0.73629986  0.75277104  0.85999488  0.86679902  0.58715784]\n",
      " [ 0.7762372   0.72924702  0.86810029  0.85682803  0.56881886]\n",
      " [ 0.70573819  0.64705759  0.77578185  0.75611995  0.53818671]\n",
      " [ 0.69474014  0.74954305  0.83822552  0.85674213  0.59345699]]\n",
      "\n",
      "Выходной слой:\n",
      "[[ 1.25152187  1.21695195  1.42371911  1.41654695  0.95518414]]\n",
      "\n",
      "Активация выходного слоя:\n",
      "[[ 0.77756319  0.7715267   0.80592079  0.80479652  0.72215656]]\n"
     ]
    }
   ],
   "source": [
    "# Прямое распространение\n",
    "print(\"Скрытый слой:\")\n",
    "z1 = np.dot(w1, x_train.T) + b1\n",
    "print(z1)\n",
    "print(\"\\nАктивация скрытого слоя:\")\n",
    "a1 = sigmoid(z1)\n",
    "print(a1)\n",
    "print(\"\\nВыходной слой:\")\n",
    "z2 = np.dot(w2, a1) + b2\n",
    "print(z2)\n",
    "print(\"\\nАктивация выходного слоя:\")\n",
    "y_hat = a2 = sigmoid(z2)\n",
    "print(a2)"
   ]
  },
  {
   "cell_type": "markdown",
   "metadata": {},
   "source": [
    "Теперь, когда получен первый результат работы нейронной сети, можно выполнить расчет значения функции ошибки для результата работы нейронной сети $\\hat{y}$ и допустимых ответов $\\text{y_train}$. Определим в качестве функции затрат функцию логистической потери (или потери перекрестной энтропии) следующего вида:<br>\n",
    "\\begin{equation*}\n",
    "Cost=-\\frac{1}{n}\\sum_{i=1}^nL_i=-\\frac{1}{n}\\sum_{i=1}^n\\left(y_ilog(\\hat{y_i})+(1-y_i)log(1-\\hat{y_i})\\right)\n",
    "\\end{equation*}\n",
    "Далее выполним расчет значения функции затрат."
   ]
  },
  {
   "cell_type": "code",
   "execution_count": 127,
   "metadata": {},
   "outputs": [
    {
     "name": "stdout",
     "output_type": "stream",
     "text": [
      "Значение функции затрат:\n",
      "[ 0.49727505]\n"
     ]
    }
   ],
   "source": [
    "# функция затрат\n",
    "cost = (1./nrow) * (-np.dot(y_train, np.log(y_hat).T) - np.dot(1 - y_train, np.log(1 - y_hat).T))\n",
    "print(\"Значение функции затрат:\")\n",
    "print(cost)"
   ]
  },
  {
   "cell_type": "markdown",
   "metadata": {
    "collapsed": true
   },
   "source": [
    "Для минимизации функции затрат методом [градиентного спуска](https://en.wikipedia.org/wiki/Gradient_descent) необходимо выполнить расчет следующих производных функций.\n",
    "<br><br>\n",
    "\\begin{equation*}\n",
    "\\frac{\\partial{L}}{\\partial{w_2}}=\\frac{\\partial{L}}{\\partial{\\hat{y}}}\\frac{\\partial{\\hat{y}}}{\\partial{z_2}}\\frac{\\partial{z_2}}{\\partial{w_2}}\n",
    "\\end{equation*}<br>\n",
    "\\begin{equation*}\n",
    "\\frac{\\partial{L}}{\\partial{b_2}}=\\frac{\\partial{L}}{\\partial{\\hat{y}}}\\frac{\\partial{\\hat{y}}}{\\partial{z_2}}\\frac{\\partial{z_2}}{\\partial{b_2}}\n",
    "\\end{equation*}<br>\n",
    "\\begin{equation*}\n",
    "\\frac{\\partial{L}}{\\partial{w_1}}=\\frac{\\partial{L}}{\\partial{\\hat{y}}}\\frac{\\partial{\\hat{y}}}{\\partial{z_2}}\\frac{\\partial{z_2}}{\\partial{a_1}}\\frac{\\partial{a_1}}{\\partial{z_1}}\\frac{\\partial{z_1}}{\\partial{w_1}}\n",
    "\\end{equation*}<br>\n",
    "\\begin{equation*}\n",
    "\\frac{\\partial{L}}{\\partial{b_1}}=\\frac{\\partial{L}}{\\partial{\\hat{y}}}\\frac{\\partial{\\hat{y}}}{\\partial{z_2}}\\frac{\\partial{z_2}}{\\partial{a_1}}\\frac{\\partial{a_1}}{\\partial{z_1}}\\frac{\\partial{z_1}}{\\partial{b_1}}\n",
    "\\end{equation*}<br>\n",
    "\n",
    "Для решения этих уравнений определим следующие производный функций:<br><br>\n",
    "\\begin{equation*}\n",
    "\\frac{\\partial{L}}{\\partial{\\hat{y}}}=-\\left(\\frac{y}{\\hat{y}}-\\frac{1-y}{1-\\hat{y}}\\right )=\\frac{\\hat{y}-y}{\\hat{y}*(1-y)}\n",
    "\\end{equation*}<br>\n",
    "\\begin{equation*}\n",
    "\\frac{\\partial{\\hat{y}}}{\\partial{z_2}}=\\frac{\\partial{g(z_2)}}{\\partial{z_2}}=\\frac{1}{1+e^{-z_2}}*\\left(1-\\frac{1}{1+e^{-z_2}}\\right )=g(z_2)*\\left(1-g(z_2)\\right)=\\hat{y}*\\left(1-\\hat{y}\\right)\n",
    "\\end{equation*}<br>\n",
    "\\begin{equation*}\n",
    "\\frac{\\partial{z_2}}{\\partial{w_2}}=\\frac{\\partial{\\left(w_2 a_1+b_2\\right)}}{\\partial{w_2}}=a_1\n",
    "\\end{equation*}<br>\n",
    "\\begin{equation*}\n",
    "\\frac{\\partial{z_2}}{\\partial{b_2}}=\\frac{\\partial{\\left(w_2 a_1+b_2\\right)}}{\\partial{b_2}}=1\n",
    "\\end{equation*}<br>\n",
    "\\begin{equation*}\n",
    "\\frac{\\partial{z_2}}{\\partial{a_1}}=\\frac{\\partial{\\left(w_2 a_1+b_2\\right)}}{\\partial{a_1}}=w_2\n",
    "\\end{equation*}<br>\n",
    "\\begin{equation*}\n",
    "\\frac{\\partial{a_1}}{\\partial{z_1}}=\\frac{\\partial{\\sigma{(z_1)}}}{\\partial{z_1}}=\\frac{1}{1+e^{-z_1}}*\\left(1-\\frac{1}{1+e^{-z_1}}\\right )=\\sigma{(z_1)}*(1-\\sigma{(z_1)})=a_1*\\left(1-a_1\\right)\n",
    "\\end{equation*}<br>\n",
    "\\begin{equation*}\n",
    "\\frac{\\partial{z_1}}{\\partial{w_1}}=\\frac{\\partial{\\left(w_1x_{train}^T+b_1\\right)}}{\\partial{w_1}}=x_{train}^T\n",
    "\\end{equation*}<br>\n",
    "\\begin{equation*}\n",
    "\\frac{\\partial{z_1}}{\\partial{b_1}}=\\frac{\\partial{\\left(w_1x_{train}^T+b_1\\right)}}{\\partial{b_1}}=1\n",
    "\\end{equation*}<br>\n",
    "\\begin{equation*}\n",
    "dz_2=\\frac{\\partial{L}}{\\partial{\\hat{y}}}\\frac{\\partial{\\hat{y}}}{\\partial{z_2}}=\\frac{\\hat{y}-y}{\\hat{y}(1-y)}*\\hat{y}\\left(1-\\hat{y}\\right)=\\hat{y}-y\n",
    "\\end{equation*}<br>\n",
    "\\begin{equation*}\n",
    "dz_1=\\frac{\\partial{L}}{\\partial{\\hat{y}}}\\frac{\\partial{\\hat{y}}}{\\partial{z_2}}\\frac{\\partial{z_2}}{\\partial{a_1}}\\frac{\\partial{a_1}}{\\partial{z_1}}=\\left(dz_2w_2^T\\right)*\\left(a_1*\\left(1-a_1\\right)\\right)\n",
    "\\end{equation*}\n",
    "\n",
    "<br><br>\n",
    "Отсюда:\n",
    "\\begin{equation*}\n",
    "\\frac{\\partial{Cost}}{\\partial{w_2}}=\\frac{1}{n}\\left(dz_2a_1^T\\right)\n",
    "\\end{equation*}<br>\n",
    "\\begin{equation*}\n",
    "\\frac{\\partial{Cost}}{\\partial{b_2}}=\\frac{1}{n}\\sum_{i=1}^n\\left(dz_{2i}\\right)\n",
    "\\end{equation*}<br>\n",
    "\\begin{equation*}\n",
    "\\frac{\\partial{Cost}}{\\partial{w_1}}=\\frac{1}{n}\\left(dz_1x_{train}\\right)\n",
    "\\end{equation*}<br>\n",
    "\\begin{equation*}\n",
    "\\frac{\\partial{L}}{\\partial{b_1}}=\\frac{1}{n}\\sum_{i=1}^n\\left(dz_{1i}\\right)\n",
    "\\end{equation*}<br>\n"
   ]
  },
  {
   "cell_type": "code",
   "execution_count": 132,
   "metadata": {},
   "outputs": [
    {
     "name": "stdout",
     "output_type": "stream",
     "text": [
      "Производная функции стоимости:\n",
      "[[-1.28606911  4.37687914 -1.24081673 -1.24255011 -1.38474129]]\n"
     ]
    }
   ],
   "source": [
    "# обратное распространение\n",
    "# произодная функции стоимости\n",
    "cost_derivative = - (np.divide(y_train, y_hat) - np.divide(1 - y_train, 1 - y_hat))\n",
    "print(\"Производная функции стоимости:\")\n",
    "print(cost_derivative)"
   ]
  },
  {
   "cell_type": "code",
   "execution_count": 133,
   "metadata": {},
   "outputs": [
    {
     "name": "stdout",
     "output_type": "stream",
     "text": [
      "[[ 1.25152187  1.21695195  1.42371911  1.41654695  0.95518414]]\n"
     ]
    }
   ],
   "source": [
    "dz2 = cost_derivative * y_hat * (1 - y_hat)\n",
    "print(z2)"
   ]
  },
  {
   "cell_type": "code",
   "execution_count": 134,
   "metadata": {},
   "outputs": [
    {
     "name": "stdout",
     "output_type": "stream",
     "text": [
      "d(Cost)/d(w2):\n",
      "[[-0.0164489  -0.02076176 -0.02109039 -0.01421053]]\n",
      "d(Cost)/d(b2):\n",
      "[[-0.02360725]]\n"
     ]
    }
   ],
   "source": [
    "dw2 = (1./nrow) * np.dot(dz2, a1.T)\n",
    "db2 = (1./nrow) * np.sum(dz2, axis=1, keepdims=True)\n",
    "da1 = np.dot(w2.T,dz2)\n",
    "print(\"d(Cost)/d(w2):\")\n",
    "print(dw2)\n",
    "print(\"d(Cost)/d(b2):\")\n",
    "print(db2)"
   ]
  },
  {
   "cell_type": "code",
   "execution_count": 135,
   "metadata": {},
   "outputs": [
    {
     "name": "stdout",
     "output_type": "stream",
     "text": [
      "d(Cost)/d(w1):\n",
      "[[ -6.58065662e-03   3.86756931e-03   2.47531655e-03]\n",
      " [ -6.70789919e-03   5.47042307e-03   3.73248917e-03]\n",
      " [ -2.17286412e-03   9.94745525e-04   5.44339470e-04]\n",
      " [ -2.99798942e-04   1.34588181e-04   7.95641160e-05]]\n",
      "d(Cost)/d(b1):\n",
      "[[ -1.74071177e-03]\n",
      " [ -9.72444693e-05]\n",
      " [ -3.01078239e-04]\n",
      " [ -1.05498568e-04]]\n"
     ]
    }
   ],
   "source": [
    "dz1 = da1 * a1 * (1 - a1)\n",
    "\n",
    "dw1 = (1./nrow) * np.dot(dz1, x_train)\n",
    "db1 = (1./nrow) * np.sum(dz1, axis=1, keepdims=True)\n",
    "da0 = np.dot(w1.T,z1)\n",
    "\n",
    "print(\"d(Cost)/d(w1):\")\n",
    "print(dw1)\n",
    "print(\"d(Cost)/d(b1):\")\n",
    "print(db1)"
   ]
  },
  {
   "cell_type": "markdown",
   "metadata": {},
   "source": [
    "Следующий шаг в обучении нашей нейронное сети - это обновление матриц весов $w_2$, $w_1$ и векторов отклонений $b_2$, $b_1$ в соответствии с коэффициентом обучения."
   ]
  },
  {
   "cell_type": "code",
   "execution_count": 159,
   "metadata": {},
   "outputs": [],
   "source": [
    "# определим коэффициент обучения\n",
    "learning_rate = 0.5\n",
    "\n",
    "# обновляем значения весов\n",
    "w1_step1 = w1 - learning_rate * dw1\n",
    "b1_step1 = b1 - learning_rate * db1\n",
    "w2_step1 = w2 - learning_rate * dw2\n",
    "b2_step1 = b2 - learning_rate * db2"
   ]
  },
  {
   "cell_type": "code",
   "execution_count": 160,
   "metadata": {},
   "outputs": [
    {
     "name": "stdout",
     "output_type": "stream",
     "text": [
      "Скрытый слой [Шаг1]:\n",
      "[[ 1.02991452  1.11315474  1.81710139  1.87333312  0.35255077]\n",
      " [ 1.2458295   0.98887607  1.88436468  1.78759219  0.27626191]\n",
      " [ 0.87572756  0.60605872  1.24192164  1.13175058  0.15307026]\n",
      " [ 0.82253796  1.09619822  1.64520751  1.78855288  0.37830998]]\n",
      "\n",
      "Активация скрытого слоя [Шаг1]:\n",
      "[[ 0.73689932  0.75271679  0.86021795  0.86684348  0.587236  ]\n",
      " [ 0.77657709  0.72886587  0.86811166  0.85663182  0.56862954]\n",
      " [ 0.70593609  0.64704122  0.77589833  0.75616182  0.53819302]\n",
      " [ 0.69477481  0.74954709  0.83824228  0.85674976  0.59346543]]\n",
      "\n",
      "Выходной слой [Шаг1]:\n",
      "[[ 1.25152187  1.21695195  1.42371911  1.41654695  0.95518414]]\n",
      "\n",
      "Активация выходного слоя [Шаг1]:\n",
      "[[ 0.78411632  0.77810652  0.81240962  0.81129319  0.72861631]]\n"
     ]
    }
   ],
   "source": [
    "# Прямое распространение\n",
    "print(\"Скрытый слой [Шаг1]:\")\n",
    "z1_step1 = np.dot(w1_step1, x_train.T) + b1_step1\n",
    "print(z1_step1)\n",
    "print(\"\\nАктивация скрытого слоя [Шаг1]:\")\n",
    "a1_step1 = sigmoid(z1_step1)\n",
    "print(a1_step1)\n",
    "print(\"\\nВыходной слой [Шаг1]:\")\n",
    "z2_step1 = np.dot(w2_step1, a1) + b2_step1\n",
    "print(z2)\n",
    "print(\"\\nАктивация выходного слоя [Шаг1]:\")\n",
    "y_hat_step1 = a2_step1 = sigmoid(z2_step1)\n",
    "print(y_hat_step1)"
   ]
  },
  {
   "cell_type": "code",
   "execution_count": 161,
   "metadata": {},
   "outputs": [
    {
     "name": "stdout",
     "output_type": "stream",
     "text": [
      "Значение функции затрат [Шаг1]:\n",
      "[ 0.49644802]\n"
     ]
    }
   ],
   "source": [
    "# функция затрат\n",
    "cost_step1 = (1./nrow) * (-np.dot(y_train, np.log(y_hat_step1).T) - np.dot(1 - y_train, np.log(1 - y_hat_step1).T))\n",
    "print(\"Значение функции затрат [Шаг1]:\")\n",
    "print(cost_step1)"
   ]
  },
  {
   "cell_type": "code",
   "execution_count": 162,
   "metadata": {},
   "outputs": [
    {
     "name": "stdout",
     "output_type": "stream",
     "text": [
      "Уменьшение значения функции затрат:\n",
      "[ 0.00082703]\n"
     ]
    }
   ],
   "source": [
    "print(\"Уменьшение значения функции затрат:\")\n",
    "print(cost - cost_step1)"
   ]
  },
  {
   "cell_type": "markdown",
   "metadata": {},
   "source": [
    "В следующем примере будет полностью реализован градиентный спуск."
   ]
  },
  {
   "cell_type": "code",
   "execution_count": null,
   "metadata": {},
   "outputs": [],
   "source": []
  }
 ],
 "metadata": {
  "kernelspec": {
   "display_name": "Python 3",
   "language": "python",
   "name": "python3"
  },
  "language_info": {
   "codemirror_mode": {
    "name": "ipython",
    "version": 3
   },
   "file_extension": ".py",
   "mimetype": "text/x-python",
   "name": "python",
   "nbconvert_exporter": "python",
   "pygments_lexer": "ipython3",
   "version": "3.6.4"
  }
 },
 "nbformat": 4,
 "nbformat_minor": 2
}

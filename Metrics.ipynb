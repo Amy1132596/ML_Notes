{
  "nbformat": 4,
  "nbformat_minor": 0,
  "metadata": {
    "colab": {
      "name": "Metrics.ipynb",
      "provenance": [],
      "include_colab_link": true
    },
    "kernelspec": {
      "name": "python3",
      "display_name": "Python 3"
    }
  },
  "cells": [
    {
      "cell_type": "markdown",
      "metadata": {
        "id": "view-in-github",
        "colab_type": "text"
      },
      "source": [
        "<a href=\"https://colab.research.google.com/github/vitalfedorov/ML_Notes/blob/master/Metrics.ipynb\" target=\"_parent\"><img src=\"https://colab.research.google.com/assets/colab-badge.svg\" alt=\"Open In Colab\"/></a>"
      ]
    },
    {
      "cell_type": "code",
      "metadata": {
        "id": "m_RVz6Y4NfHT",
        "colab_type": "code",
        "colab": {}
      },
      "source": [
        "import numpy as np\n",
        "import pandas as pd"
      ],
      "execution_count": 0,
      "outputs": []
    },
    {
      "cell_type": "code",
      "metadata": {
        "id": "Du3ig-f7NoRS",
        "colab_type": "code",
        "colab": {}
      },
      "source": [
        "y_true = [0, 1, 1, 0, 1, 1]\n",
        "y_pred = [0, 1, 1, 0, 0, 1]"
      ],
      "execution_count": 0,
      "outputs": []
    },
    {
      "cell_type": "code",
      "metadata": {
        "id": "lAAN0t_fOajl",
        "colab_type": "code",
        "colab": {}
      },
      "source": [
        ""
      ],
      "execution_count": 0,
      "outputs": []
    },
    {
      "cell_type": "code",
      "metadata": {
        "id": "EO5_TjXgYsuw",
        "colab_type": "code",
        "colab": {}
      },
      "source": [
        "tp = 0 # true positive\n",
        "tn = 0 # true negative\n",
        "fp = 0 # false positive\n",
        "fn = 0 # false negative"
      ],
      "execution_count": 0,
      "outputs": []
    },
    {
      "cell_type": "code",
      "metadata": {
        "id": "EIIPsEbgf-YP",
        "colab_type": "code",
        "colab": {}
      },
      "source": [
        "for i in range(len(y_true)):\n",
        "  if y_true[i] == y_pred[i] == 1:\n",
        "    tp += 1\n",
        "  if y_true[i] == y_pred[i] == 0:\n",
        "    tn += 1\n",
        "  if y_true[i] == 1 and y_true[i] != y_pred[i]:\n",
        "    fp += 1\n",
        "  if y_true[i] == 0 and y_true[i] != y_pred[i]:\n",
        "    fn += 1"
      ],
      "execution_count": 0,
      "outputs": []
    },
    {
      "cell_type": "code",
      "metadata": {
        "id": "UIMFsez7gFFO",
        "colab_type": "code",
        "outputId": "aaf50a79-12b1-4b6e-aa57-d2adbda18e6a",
        "colab": {
          "base_uri": "https://localhost:8080/",
          "height": 85
        }
      },
      "source": [
        "print('True Positive (TP): {}'.format(tp))\n",
        "print('True Negative (TN): {}'.format(tn))\n",
        "print('False Positive (FP): {}'.format(fp))\n",
        "print('False Negative (FN): {}'.format(fn))"
      ],
      "execution_count": 5,
      "outputs": [
        {
          "output_type": "stream",
          "text": [
            "True Positive (TP): 3\n",
            "True Negative (TN): 2\n",
            "False Positive (FP): 1\n",
            "False Negative (FN): 0\n"
          ],
          "name": "stdout"
        }
      ]
    },
    {
      "cell_type": "markdown",
      "metadata": {
        "id": "lIff76-PbWHS",
        "colab_type": "text"
      },
      "source": [
        "### Recall (Sensitivity) or True Positive Rate (TPR)\n",
        "\\begin{equation*}\n",
        "TRP = \\frac{TP}{TP + FN}\n",
        "\\end{equation*}\n",
        "With increase of FN, TRP will decline. If FN=0, TRP=1\n",
        "### Precision or Positive Predictive Value (PPV)\n",
        "\\begin{equation*}\n",
        "PPV = \\frac{TP}{TP + FP}\n",
        "\\end{equation*}\n",
        "With increse of FP, PPV will decline. If FP=0, PPV=1\n",
        "### Accuracy (ACC)\n",
        "\\begin{equation*}\n",
        "PPV = \\frac{TP + TN}{TP + FP + FP + FN}\n",
        "\\end{equation*}\n",
        "Share of correctly predicted values.\n"
      ]
    },
    {
      "cell_type": "code",
      "metadata": {
        "id": "hU64ow4Bghra",
        "colab_type": "code",
        "colab": {}
      },
      "source": [
        "# Recall (Sensitivity) or True Positive Rate (TPR)\n",
        "# TPR = TP / (TP + FN)\n",
        "tpr = tp / (tp + fn)\n",
        "\n",
        "# Precision or Positive Predictive Value (PPV)\n",
        "# PPV = TP / (TP + FP) \n",
        "ppv = tp / (tp + fp)\n",
        "\n",
        "# Accuracy (ACC)\n",
        "acc = (tp + tn) / (tp + tn + fp + fn)"
      ],
      "execution_count": 0,
      "outputs": []
    },
    {
      "cell_type": "code",
      "metadata": {
        "id": "M5Y2DU9TfZZo",
        "colab_type": "code",
        "outputId": "83fd8465-f5d0-4381-f38c-297c0dd33a70",
        "colab": {
          "base_uri": "https://localhost:8080/",
          "height": 68
        }
      },
      "source": [
        "print(\"Recall (TPR): {:.2f}\".format(tpr))\n",
        "print('Precision (PPV): {:.2f}'.format(ppv))\n",
        "print('Accuracy (ACC): {:.2f}'.format(acc))"
      ],
      "execution_count": 11,
      "outputs": [
        {
          "output_type": "stream",
          "text": [
            "Recall (TPR): 1.00\n",
            "Precision (PPV): 0.75\n",
            "Accuracy (ACC): 0.83\n"
          ],
          "name": "stdout"
        }
      ]
    },
    {
      "cell_type": "code",
      "metadata": {
        "id": "8HlUsH-DfmQP",
        "colab_type": "code",
        "colab": {}
      },
      "source": [
        ""
      ],
      "execution_count": 0,
      "outputs": []
    }
  ]
}
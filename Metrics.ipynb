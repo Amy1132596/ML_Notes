{
  "nbformat": 4,
  "nbformat_minor": 0,
  "metadata": {
    "colab": {
      "name": "Metrics.ipynb",
      "provenance": [],
      "collapsed_sections": [],
      "include_colab_link": true
    },
    "kernelspec": {
      "name": "python3",
      "display_name": "Python 3"
    }
  },
  "cells": [
    {
      "cell_type": "markdown",
      "metadata": {
        "id": "view-in-github",
        "colab_type": "text"
      },
      "source": [
        "<a href=\"https://colab.research.google.com/github/vitalfedorov/ML_Notes/blob/master/Metrics.ipynb\" target=\"_parent\"><img src=\"https://colab.research.google.com/assets/colab-badge.svg\" alt=\"Open In Colab\"/></a>"
      ]
    },
    {
      "cell_type": "code",
      "metadata": {
        "id": "VJni0b7gMVUX",
        "colab_type": "code",
        "colab": {}
      },
      "source": [
        "# https://towardsdatascience.com/implement-gradient-descent-in-python-9b93ed7108d1\n",
        "# https://towardsdatascience.com/the-ultimate-guide-to-binary-classification-metrics-c25c3627dd0a\n",
        "# https://towardsdatascience.com/the-ultimate-guide-to-binary-classification-metrics-c25c3627dd0a\n",
        "# http://rstudio-pubs-static.s3.amazonaws.com/303414_fb0a43efb0d7433983fdc9adcf87317f.html\n",
        "# https://stackoverflow.com/questions/25009284/how-to-plot-roc-curve-in-python\n",
        "\n",
        "\n",
        "# https://github.com/scikit-learn/scikit-learn/blob/017000991707d8bf8fafd56207d4aead04cf8834/sklearn/metrics/_ranking.py#L478\n",
        "# https://stats.stackexchange.com/questions/145566/how-to-calculate-area-under-the-curve-auc-or-the-c-statistic-by-hand\n"
      ],
      "execution_count": 0,
      "outputs": []
    },
    {
      "cell_type": "code",
      "metadata": {
        "id": "m_RVz6Y4NfHT",
        "colab_type": "code",
        "colab": {
          "base_uri": "https://localhost:8080/",
          "height": 231
        },
        "outputId": "bd6cdd1d-82cd-4a13-b39f-5c57178debdf"
      },
      "source": [
        "import numpy as np\n",
        "import pandas as pd\n",
        "\n",
        "from sklearn.linear_model import LogisticRegression\n",
        "from sklearn.preprocessing import StandardScaler\n",
        "from sklearn.model_selection import train_test_split\n",
        "from sklearn.metrics import f1_score\n",
        "from sklearn.datasets import load_breast_cancer\n",
        "from sklearn import metrics\n",
        "\n",
        "import matplotlib.pyplot as plt"
      ],
      "execution_count": 49,
      "outputs": [
        {
          "output_type": "error",
          "ename": "ValueError",
          "evalue": "ignored",
          "traceback": [
            "\u001b[0;31m---------------------------------------------------------------------------\u001b[0m",
            "\u001b[0;31mValueError\u001b[0m                                Traceback (most recent call last)",
            "\u001b[0;32m<ipython-input-49-fae97183b850>\u001b[0m in \u001b[0;36m<module>\u001b[0;34m()\u001b[0m\n\u001b[1;32m      8\u001b[0m \u001b[0;32mfrom\u001b[0m \u001b[0msklearn\u001b[0m\u001b[0;34m.\u001b[0m\u001b[0mdatasets\u001b[0m \u001b[0;32mimport\u001b[0m \u001b[0mload_breast_cancer\u001b[0m\u001b[0;34m\u001b[0m\u001b[0;34m\u001b[0m\u001b[0m\n\u001b[1;32m      9\u001b[0m \u001b[0;32mfrom\u001b[0m \u001b[0msklearn\u001b[0m \u001b[0;32mimport\u001b[0m \u001b[0mmetrics\u001b[0m\u001b[0;34m\u001b[0m\u001b[0;34m\u001b[0m\u001b[0m\n\u001b[0;32m---> 10\u001b[0;31m \u001b[0;32mfrom\u001b[0m \u001b[0;34m.\u001b[0m\u001b[0;34m.\u001b[0m\u001b[0mutils\u001b[0m\u001b[0;34m.\u001b[0m\u001b[0mextmath\u001b[0m \u001b[0;32mimport\u001b[0m \u001b[0mstable_cumsum\u001b[0m\u001b[0;34m\u001b[0m\u001b[0;34m\u001b[0m\u001b[0m\n\u001b[0m\u001b[1;32m     11\u001b[0m \u001b[0;34m\u001b[0m\u001b[0m\n\u001b[1;32m     12\u001b[0m \u001b[0;32mimport\u001b[0m \u001b[0mmatplotlib\u001b[0m\u001b[0;34m.\u001b[0m\u001b[0mpyplot\u001b[0m \u001b[0;32mas\u001b[0m \u001b[0mplt\u001b[0m\u001b[0;34m\u001b[0m\u001b[0;34m\u001b[0m\u001b[0m\n",
            "\u001b[0;31mValueError\u001b[0m: attempted relative import beyond top-level package"
          ]
        }
      ]
    },
    {
      "cell_type": "code",
      "metadata": {
        "id": "gwHLed4-IL-e",
        "colab_type": "code",
        "colab": {}
      },
      "source": [
        "rand_state = 115\n",
        "test_size = 0.4 # just for the demo"
      ],
      "execution_count": 0,
      "outputs": []
    },
    {
      "cell_type": "code",
      "metadata": {
        "id": "Du3ig-f7NoRS",
        "colab_type": "code",
        "colab": {}
      },
      "source": [
        "data = load_breast_cancer()\n",
        "train_ds = pd.DataFrame(StandardScaler().fit_transform(data.data), columns = data.feature_names)\n",
        "targets = data.target\n",
        "\n",
        "x_train, x_valid, y_train, y_valid = train_test_split(train_ds, targets, test_size = test_size, random_state = rand_state)\n",
        "\n",
        "lr = LogisticRegression(solver='lbfgs', random_state=rand_state)\n",
        "m = lr.fit(x_train, y_train)\n",
        "\n",
        "y_pred = lr.predict(x_valid)\n",
        "y_pred_proba = lr.predict_proba(x_valid)[:,1]\n",
        "\n",
        "y_true = y_valid"
      ],
      "execution_count": 0,
      "outputs": []
    },
    {
      "cell_type": "code",
      "metadata": {
        "id": "g47WNxzNH1h1",
        "colab_type": "code",
        "colab": {}
      },
      "source": [
        "def calc_tfpn(y_true, y_pred):\n",
        "  tp = 0 # true positive\n",
        "  tn = 0 # true negative\n",
        "  fp = 0 # false positive\n",
        "  fn = 0 # false negative\n",
        "\n",
        "  for i in range(len(y_true)):\n",
        "    if y_true[i] == y_pred[i] == 1:\n",
        "      tp += 1\n",
        "    if y_true[i] == y_pred[i] == 0:\n",
        "      tn += 1\n",
        "    if y_true[i] == 1 and y_true[i] != y_pred[i]:\n",
        "      fp += 1\n",
        "    if y_true[i] == 0 and y_true[i] != y_pred[i]:\n",
        "      fn += 1  \n",
        "  return tp, tn, fp, fn\n",
        "\n",
        "def best_thresold(y_true, y_pred):\n",
        "  best_thresh = 0\n",
        "  best_score = 0\n",
        "  scores = []\n",
        "  for i in np.arange(0.1, 1.0, 0.01):\n",
        "    score = f1_score(y_true, np.array(y_pred) > i)\n",
        "    scores.append(score)\n",
        "    if score > best_score:\n",
        "      best_thresh = i\n",
        "      best_score = score\n",
        "  return best_thresh, scores\n",
        "\n",
        "def roc_curve(y_true, y_pred, thresholds = None):\n",
        "  if thresholds is None:\n",
        "    thresholds = np.arange(0.01, 1.0, 0.01)\n",
        "  \n",
        "  tpr = np.zeros(len(thresholds))\n",
        "  fpr = np.zeros(len(thresholds))\n",
        "  j = 0\n",
        "  for i in thresholds:\n",
        "    y = (np.array(y_pred) > i)\n",
        "    tp, tn, fp, fn = calc_tfpn(y_true, y)\n",
        "    fpr[j] = 0\n",
        "    if (fp + tn) > 0:\n",
        "      fpr[j] = fp / (fp + tn)\n",
        "    tpr[j] = 0\n",
        "    if (tp + fn) > 0:\n",
        "      tpr[j] = tp / (tp + fn)\n",
        "    j += 1\n",
        "  return fpr, tpr, thresholds"
      ],
      "execution_count": 0,
      "outputs": []
    },
    {
      "cell_type": "code",
      "metadata": {
        "id": "EIIPsEbgf-YP",
        "colab_type": "code",
        "colab": {}
      },
      "source": [
        "tp = 0 # true positive\n",
        "tn = 0 # true negative\n",
        "fp = 0 # false positive\n",
        "fn = 0 # false negative\n",
        "\n",
        "for i in range(len(y_true)):\n",
        "  if y_true[i] == y_pred[i] == 1:\n",
        "    tp += 1\n",
        "  if y_true[i] == y_pred[i] == 0:\n",
        "    tn += 1\n",
        "  if y_true[i] == 1 and y_true[i] != y_pred[i]:\n",
        "    fp += 1\n",
        "  if y_true[i] == 0 and y_true[i] != y_pred[i]:\n",
        "    fn += 1"
      ],
      "execution_count": 0,
      "outputs": []
    },
    {
      "cell_type": "markdown",
      "metadata": {
        "id": "lIff76-PbWHS",
        "colab_type": "text"
      },
      "source": [
        "### Recall (Sensitivity) or True Positive Rate (TPR)\n",
        "Recall is a valid choice of evaluation metric when we want to capture as many positives as possible. For example: If we are building a system to predict if a person has cancer or not, we want to capture the disease even if we are not very sure.  \n",
        "\n",
        "\\begin{equation*}\n",
        "TRP = \\frac{TP}{TP + FN}\n",
        "\\end{equation*}\n",
        "\n",
        "With increase of FN, TRP will decline. If FN=0, TRP=1. We don't care about FP.\n",
        "### Precision or Positive Predictive Value (PPV)\n",
        "Precision is a valid choice of evaluation metric when we want to be very sure of our prediction. For example: If we are building a system to predict if we should decrease the credit limit on a particular account, we want to be very sure about our prediction or it may result in customer dissatisfaction. \n",
        "\n",
        "\\begin{equation*}\n",
        "PPV = \\frac{TP}{TP + FP}\n",
        "\\end{equation*}\n",
        "\n",
        "With increse of FP, PPV will decline. If FP=0, PPV=1\n",
        "### Accuracy (ACC)\n",
        "Accuracy is a valid choice of evaluation for classification problems which are well balanced and not skewed or No class imbalance. \n",
        "\n",
        "\\begin{equation*}\n",
        "PPV = \\frac{TP + TN}{TP + TN + FP + FN}\n",
        "\\end{equation*}\n",
        "\n",
        "Share of correctly predicted values. \n",
        "### F1 score\n",
        "\\begin{equation*}\n",
        "F_1 = 2*\\frac{Precision * Recall}{Precision + Recall}\n",
        "\\end{equation*}\n",
        "\n",
        "### F1 score with Beta\n",
        "F_1 = "
      ]
    },
    {
      "cell_type": "code",
      "metadata": {
        "id": "UIMFsez7gFFO",
        "colab_type": "code",
        "outputId": "937d5e77-9220-4b7c-fcb4-642311ea11d4",
        "colab": {
          "base_uri": "https://localhost:8080/",
          "height": 85
        }
      },
      "source": [
        "print('True Positive (TP): {}'.format(tp))\n",
        "print('True Negative (TN): {}'.format(tn))\n",
        "print('False Positive (FP): {}'.format(fp))\n",
        "print('False Negative (FN): {}'.format(fn))"
      ],
      "execution_count": 6,
      "outputs": [
        {
          "output_type": "stream",
          "text": [
            "True Positive (TP): 140\n",
            "True Negative (TN): 82\n",
            "False Positive (FP): 2\n",
            "False Negative (FN): 4\n"
          ],
          "name": "stdout"
        }
      ]
    },
    {
      "cell_type": "code",
      "metadata": {
        "id": "hU64ow4Bghra",
        "colab_type": "code",
        "colab": {}
      },
      "source": [
        "# Recall (Sensitivity) or True Positive Rate (TPR)\n",
        "# TPR = TP / (TP + FN)\n",
        "tpr = tp / (tp + fn)\n",
        "\n",
        "# Precision or Positive Predictive Value (PPV)\n",
        "# PPV = TP / (TP + FP) \n",
        "ppv = tp / (tp + fp)\n",
        "\n",
        "# Specificity or Selectivity or True Negative Rate (TNR)\n",
        "tnr = tn / (tn + fp)\n",
        "\n",
        "# Accuracy (ACC)\n",
        "acc = (tp + tn) / (tp + tn + fp + fn)\n",
        "\n",
        "# F1 score\n",
        "f1 = 2 * (ppv * tpr) / (ppv + tpr)"
      ],
      "execution_count": 0,
      "outputs": []
    },
    {
      "cell_type": "code",
      "metadata": {
        "id": "M5Y2DU9TfZZo",
        "colab_type": "code",
        "outputId": "e43cb583-29ac-4f92-d1f2-7a8aff75d769",
        "colab": {
          "base_uri": "https://localhost:8080/",
          "height": 102
        }
      },
      "source": [
        "print(\"Recall (TPR): {:.2f}\".format(tpr))\n",
        "print('Precision (PPV): {:.2f}'.format(ppv))\n",
        "print('Specificity (TNR): {:.2f}'.format(tnr))\n",
        "print('Accuracy (ACC): {:.2f}'.format(acc))\n",
        "print('F1 score (F1): {:.4f}'.format(f1))"
      ],
      "execution_count": 8,
      "outputs": [
        {
          "output_type": "stream",
          "text": [
            "Recall (TPR): 0.97\n",
            "Precision (PPV): 0.99\n",
            "Specificity (TNR): 0.98\n",
            "Accuracy (ACC): 0.97\n",
            "F1 score (F1): 0.9790\n"
          ],
          "name": "stdout"
        }
      ]
    },
    {
      "cell_type": "code",
      "metadata": {
        "id": "8HlUsH-DfmQP",
        "colab_type": "code",
        "outputId": "8179a7c5-9603-4d65-8048-eaf42324b6d9",
        "colab": {
          "base_uri": "https://localhost:8080/",
          "height": 34
        }
      },
      "source": [
        "f1_score(y_true, y_pred)"
      ],
      "execution_count": 9,
      "outputs": [
        {
          "output_type": "execute_result",
          "data": {
            "text/plain": [
              "0.979020979020979"
            ]
          },
          "metadata": {
            "tags": []
          },
          "execution_count": 9
        }
      ]
    },
    {
      "cell_type": "code",
      "metadata": {
        "id": "LoGpOaJGBsW6",
        "colab_type": "code",
        "colab": {}
      },
      "source": [
        "j, scores = best_thresold(y_true, y_pred_proba)"
      ],
      "execution_count": 0,
      "outputs": []
    },
    {
      "cell_type": "code",
      "metadata": {
        "id": "u9r9eT6UWdyT",
        "colab_type": "code",
        "outputId": "70a798cb-e2c2-440b-fd37-0abe89cd178d",
        "colab": {
          "base_uri": "https://localhost:8080/",
          "height": 312
        }
      },
      "source": [
        "plt.plot(scores)\n",
        "plt.ylabel('thresolds')\n",
        "plt.xlabel('n')\n",
        "plt.title('F1 score')"
      ],
      "execution_count": 11,
      "outputs": [
        {
          "output_type": "execute_result",
          "data": {
            "text/plain": [
              "Text(0.5, 1.0, 'F1 score')"
            ]
          },
          "metadata": {
            "tags": []
          },
          "execution_count": 11
        },
        {
          "output_type": "display_data",
          "data": {
            "image/png": "[encoded data removed]",
            "text/plain": [
              "<Figure size 432x288 with 1 Axes>"
            ]
          },
          "metadata": {
            "tags": []
          }
        }
      ]
    },
    {
      "cell_type": "code",
      "metadata": {
        "id": "tDGf7T0uWerZ",
        "colab_type": "code",
        "colab": {}
      },
      "source": [
        "thresolds = [1.99999697e+00, 9.99996971e-01, 9.90667007e-01, 9.89544230e-01,\n",
        "       8.92396626e-01, 8.73446578e-01, 7.21052742e-01, 6.85180120e-01,\n",
        "       4.83186966e-01, 3.76911389e-01, 3.39522455e-01, 4.12536133e-22]\n",
        "\n",
        "#fpr, tpr, thresolds = roc_curve(y_true, y_pred_proba, thresolds)\n",
        "fpr, tpr, thresolds = roc_curve(y_true, y_pred_proba)"
      ],
      "execution_count": 0,
      "outputs": []
    },
    {
      "cell_type": "code",
      "metadata": {
        "id": "06rKPJrB9lGv",
        "colab_type": "code",
        "colab": {}
      },
      "source": [
        "desc_score_indices = np.argsort(y_pred_proba, kind=\"mergesort\")[::-1]\n",
        "y_pred_desc = y_pred_proba[desc_score_indices]\n",
        "y_true_desc = y_true[desc_score_indices]\n",
        "distinct_value_indices = np.where(np.diff(y_pred_desc))[0]\n",
        "threshold_idxs = np.r_[distinct_value_indices, y_true.size - 1]\n",
        "\n",
        "tps = np.cumsum(y_true_desc * 1)[threshold_idxs]\n",
        "fps = 1 + threshold_idxs - tps\n",
        "\n",
        "tps = np.r_[0, tps]\n",
        "fps = np.r_[0, fps]\n",
        "\n",
        "fpr = fps / fps[-1]\n",
        "tpr = tps / tps[-1]"
      ],
      "execution_count": 0,
      "outputs": []
    },
    {
      "cell_type": "code",
      "metadata": {
        "id": "0Nro7gjpWtTp",
        "colab_type": "code",
        "outputId": "c01affe3-948a-49ac-e1b7-fd0a62f091aa",
        "colab": {
          "base_uri": "https://localhost:8080/",
          "height": 282
        }
      },
      "source": [
        "plt.plot(fpr, tpr)\n",
        "plt.plot([0, 1], [0, 1], linestyle='--', lw=2, color='r', label='Chance', alpha=.8)"
      ],
      "execution_count": 63,
      "outputs": [
        {
          "output_type": "execute_result",
          "data": {
            "text/plain": [
              "[<matplotlib.lines.Line2D at 0x7f58e331bb70>]"
            ]
          },
          "metadata": {
            "tags": []
          },
          "execution_count": 63
        },
        {
          "output_type": "display_data",
          "data": {
            "image/png": "[encoded data removed]",
            "text/plain": [
              "<Figure size 432x288 with 1 Axes>"
            ]
          },
          "metadata": {
            "tags": []
          }
        }
      ]
    },
    {
      "cell_type": "code",
      "metadata": {
        "id": "WyHtMyjYW4na",
        "colab_type": "code",
        "colab": {}
      },
      "source": [
        ""
      ],
      "execution_count": 0,
      "outputs": []
    },
    {
      "cell_type": "code",
      "metadata": {
        "id": "3BrFxTjiW9xJ",
        "colab_type": "code",
        "colab": {}
      },
      "source": [
        ""
      ],
      "execution_count": 0,
      "outputs": []
    },
    {
      "cell_type": "code",
      "metadata": {
        "id": "XlSb0WkiiCWn",
        "colab_type": "code",
        "colab": {}
      },
      "source": [
        "fpr, tpr, thresholds = metrics.roc_curve(y_true, y_pred_proba)"
      ],
      "execution_count": 0,
      "outputs": []
    },
    {
      "cell_type": "code",
      "metadata": {
        "id": "EmAzWKT0l_wO",
        "colab_type": "code",
        "outputId": "c3e3c11a-1c1c-4bb4-9ab9-b2d3d0e4ee7a",
        "colab": {
          "base_uri": "https://localhost:8080/",
          "height": 68
        }
      },
      "source": [
        "fpr"
      ],
      "execution_count": 18,
      "outputs": [
        {
          "output_type": "execute_result",
          "data": {
            "text/plain": [
              "array([0.        , 0.        , 0.        , 0.01162791, 0.01162791,\n",
              "       0.02325581, 0.02325581, 0.04651163, 0.04651163, 0.08139535,\n",
              "       0.08139535, 1.        ])"
            ]
          },
          "metadata": {
            "tags": []
          },
          "execution_count": 18
        }
      ]
    },
    {
      "cell_type": "code",
      "metadata": {
        "id": "zX_P0dU0mw9l",
        "colab_type": "code",
        "outputId": "daa56ed0-ccdf-457a-8508-ad7f2bfce530",
        "colab": {
          "base_uri": "https://localhost:8080/",
          "height": 68
        }
      },
      "source": [
        "tpr"
      ],
      "execution_count": 19,
      "outputs": [
        {
          "output_type": "execute_result",
          "data": {
            "text/plain": [
              "array([0.        , 0.00704225, 0.63380282, 0.63380282, 0.88028169,\n",
              "       0.88028169, 0.95070423, 0.95070423, 0.99295775, 0.99295775,\n",
              "       1.        , 1.        ])"
            ]
          },
          "metadata": {
            "tags": []
          },
          "execution_count": 19
        }
      ]
    },
    {
      "cell_type": "code",
      "metadata": {
        "id": "kc2pTgGOOHyz",
        "colab_type": "code",
        "outputId": "4323c7a3-c0ee-437a-a20a-1ed7e286ebab",
        "colab": {
          "base_uri": "https://localhost:8080/",
          "height": 68
        }
      },
      "source": [
        "thresholds"
      ],
      "execution_count": 20,
      "outputs": [
        {
          "output_type": "execute_result",
          "data": {
            "text/plain": [
              "array([1.99999697e+00, 9.99996971e-01, 9.90667007e-01, 9.89544230e-01,\n",
              "       8.92396626e-01, 8.73446578e-01, 7.21052742e-01, 6.85180120e-01,\n",
              "       4.83186966e-01, 3.76911389e-01, 3.39522455e-01, 4.12536133e-22])"
            ]
          },
          "metadata": {
            "tags": []
          },
          "execution_count": 20
        }
      ]
    },
    {
      "cell_type": "code",
      "metadata": {
        "id": "_GGQIKngScCd",
        "colab_type": "code",
        "colab": {}
      },
      "source": [
        "fpr, tpr, _ = metrics.roc_curve(y_true,  y_pred_proba)"
      ],
      "execution_count": 0,
      "outputs": []
    },
    {
      "cell_type": "code",
      "metadata": {
        "id": "mnQBYeynSdaj",
        "colab_type": "code",
        "outputId": "44565de9-5a84-482e-b1d9-bb9fdd972b2a",
        "colab": {
          "base_uri": "https://localhost:8080/",
          "height": 282
        }
      },
      "source": [
        "plt.plot(fpr, tpr)\n",
        "plt.plot([0, 1], [0, 1], linestyle='--', lw=2, color='r', label='Chance', alpha=.8)"
      ],
      "execution_count": 22,
      "outputs": [
        {
          "output_type": "execute_result",
          "data": {
            "text/plain": [
              "[<matplotlib.lines.Line2D at 0x7f58e39039b0>]"
            ]
          },
          "metadata": {
            "tags": []
          },
          "execution_count": 22
        },
        {
          "output_type": "display_data",
          "data": {
            "image/png": "[encoded data removed]",
            "text/plain": [
              "<Figure size 432x288 with 1 Axes>"
            ]
          },
          "metadata": {
            "tags": []
          }
        }
      ]
    },
    {
      "cell_type": "code",
      "metadata": {
        "id": "wcLqkvvfYNa1",
        "colab_type": "code",
        "colab": {}
      },
      "source": [
        ""
      ],
      "execution_count": 0,
      "outputs": []
    },
    {
      "cell_type": "code",
      "metadata": {
        "id": "MNzRs0EPYRqj",
        "colab_type": "code",
        "colab": {}
      },
      "source": [
        ""
      ],
      "execution_count": 0,
      "outputs": []
    },
    {
      "cell_type": "code",
      "metadata": {
        "id": "wapI9z41blGL",
        "colab_type": "code",
        "colab": {}
      },
      "source": [
        ""
      ],
      "execution_count": 0,
      "outputs": []
    },
    {
      "cell_type": "code",
      "metadata": {
        "id": "yGJZ082Gbp27",
        "colab_type": "code",
        "colab": {}
      },
      "source": [
        ""
      ],
      "execution_count": 0,
      "outputs": []
    },
    {
      "cell_type": "code",
      "metadata": {
        "id": "IOtkqx-7bz1L",
        "colab_type": "code",
        "colab": {}
      },
      "source": [
        ""
      ],
      "execution_count": 0,
      "outputs": []
    },
    {
      "cell_type": "code",
      "metadata": {
        "id": "gah3Ejkhb5Rs",
        "colab_type": "code",
        "colab": {}
      },
      "source": [
        ""
      ],
      "execution_count": 0,
      "outputs": []
    },
    {
      "cell_type": "code",
      "metadata": {
        "id": "TSHkIM9Zi9AW",
        "colab_type": "code",
        "colab": {}
      },
      "source": [
        ""
      ],
      "execution_count": 0,
      "outputs": []
    },
    {
      "cell_type": "code",
      "metadata": {
        "id": "xthaK9jDcFKq",
        "colab_type": "code",
        "colab": {}
      },
      "source": [
        ""
      ],
      "execution_count": 0,
      "outputs": []
    },
    {
      "cell_type": "code",
      "metadata": {
        "id": "AQ-oan5PczVD",
        "colab_type": "code",
        "colab": {}
      },
      "source": [
        ""
      ],
      "execution_count": 0,
      "outputs": []
    },
    {
      "cell_type": "code",
      "metadata": {
        "id": "J4kKgGFpc1wu",
        "colab_type": "code",
        "colab": {}
      },
      "source": [
        ""
      ],
      "execution_count": 0,
      "outputs": []
    },
    {
      "cell_type": "code",
      "metadata": {
        "id": "M-22OjNMdi7E",
        "colab_type": "code",
        "colab": {}
      },
      "source": [
        ""
      ],
      "execution_count": 0,
      "outputs": []
    },
    {
      "cell_type": "code",
      "metadata": {
        "id": "y-5gHkZBd03k",
        "colab_type": "code",
        "colab": {}
      },
      "source": [
        ""
      ],
      "execution_count": 0,
      "outputs": []
    }
  ]
}
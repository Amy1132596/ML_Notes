{
  "nbformat": 4,
  "nbformat_minor": 0,
  "metadata": {
    "colab": {
      "name": "Metrics.ipynb",
      "provenance": [],
      "collapsed_sections": [],
      "include_colab_link": true
    },
    "kernelspec": {
      "name": "python3",
      "display_name": "Python 3"
    }
  },
  "cells": [
    {
      "cell_type": "markdown",
      "metadata": {
        "id": "view-in-github",
        "colab_type": "text"
      },
      "source": [
        "<a href=\"https://colab.research.google.com/github/vitalfedorov/ML_Notes/blob/master/Metrics.ipynb\" target=\"_parent\"><img src=\"https://colab.research.google.com/assets/colab-badge.svg\" alt=\"Open In Colab\"/></a>"
      ]
    },
    {
      "cell_type": "code",
      "metadata": {
        "id": "VJni0b7gMVUX",
        "colab_type": "code",
        "colab": {}
      },
      "source": [
        "# https://towardsdatascience.com/implement-gradient-descent-in-python-9b93ed7108d1\n",
        "# https://towardsdatascience.com/the-ultimate-guide-to-binary-classification-metrics-c25c3627dd0a\n",
        "# http://rstudio-pubs-static.s3.amazonaws.com/303414_fb0a43efb0d7433983fdc9adcf87317f.html\n",
        "# https://stackoverflow.com/questions/25009284/how-to-plot-roc-curve-in-python\n",
        "# https://github.com/scikit-learn/scikit-learn/blob/017000991707d8bf8fafd56207d4aead04cf8834/sklearn/metrics/_ranking.py#L478\n",
        "# https://stats.stackexchange.com/questions/145566/how-to-calculate-area-under-the-curve-auc-or-the-c-statistic-by-hand\n"
      ],
      "execution_count": 0,
      "outputs": []
    },
    {
      "cell_type": "code",
      "metadata": {
        "id": "m_RVz6Y4NfHT",
        "colab_type": "code",
        "colab": {}
      },
      "source": [
        "import numpy as np\n",
        "import pandas as pd\n",
        "\n",
        "from sklearn.linear_model import LogisticRegression\n",
        "from sklearn.preprocessing import StandardScaler\n",
        "from sklearn.model_selection import train_test_split\n",
        "from sklearn.metrics import f1_score\n",
        "from sklearn.metrics import fbeta_score\n",
        "from sklearn.metrics import roc_auc_score\n",
        "from sklearn.datasets import load_breast_cancer\n",
        "from sklearn import metrics\n",
        "\n",
        "import matplotlib.pyplot as plt"
      ],
      "execution_count": 0,
      "outputs": []
    },
    {
      "cell_type": "code",
      "metadata": {
        "id": "gwHLed4-IL-e",
        "colab_type": "code",
        "colab": {}
      },
      "source": [
        "rand_state = 115\n",
        "test_size = 0.4 # just for the demo"
      ],
      "execution_count": 0,
      "outputs": []
    },
    {
      "cell_type": "code",
      "metadata": {
        "id": "Du3ig-f7NoRS",
        "colab_type": "code",
        "colab": {}
      },
      "source": [
        "data = load_breast_cancer()\n",
        "train_ds = pd.DataFrame(StandardScaler().fit_transform(data.data), columns = data.feature_names)\n",
        "targets = data.target\n",
        "\n",
        "x_train, x_valid, y_train, y_valid = train_test_split(train_ds, targets, test_size = test_size, random_state = rand_state)\n",
        "\n",
        "lr = LogisticRegression(solver='lbfgs', random_state=rand_state)\n",
        "m = lr.fit(x_train, y_train)\n",
        "\n",
        "y_pred = lr.predict(x_valid)\n",
        "y_pred_proba = lr.predict_proba(x_valid)[:,1]\n",
        "\n",
        "y_true = y_valid"
      ],
      "execution_count": 0,
      "outputs": []
    },
    {
      "cell_type": "code",
      "metadata": {
        "id": "g47WNxzNH1h1",
        "colab_type": "code",
        "colab": {}
      },
      "source": [
        "def calc_tfpn(y_true, y_pred):\n",
        "  tp = 0 # true positive\n",
        "  tn = 0 # true negative\n",
        "  fp = 0 # false positive\n",
        "  fn = 0 # false negative\n",
        "\n",
        "  for i in range(len(y_true)):\n",
        "    if y_true[i] == y_pred[i] == 1:\n",
        "      tp += 1\n",
        "    if y_true[i] == y_pred[i] == 0:\n",
        "      tn += 1\n",
        "    if y_true[i] == 1 and y_true[i] != y_pred[i]:\n",
        "      fn += 1\n",
        "    if y_true[i] == 0 and y_true[i] != y_pred[i]:\n",
        "      fp += 1  \n",
        "  return tp, tn, fp, fn\n",
        "\n",
        "def best_thresold(y_true, y_pred):\n",
        "  best_thresh = 0\n",
        "  best_score = 0\n",
        "  scores = []\n",
        "  for i in np.arange(0.1, 1.0, 0.01):\n",
        "    score = f1_score(y_true, np.array(y_pred) > i)\n",
        "    scores.append(score)\n",
        "    if score > best_score:\n",
        "      best_thresh = i\n",
        "      best_score = score\n",
        "  return best_thresh, scores\n",
        "\n",
        "def best_thresold_beta(y_true, y_pred, beta=0.1):\n",
        "  best_thresh = 0\n",
        "  best_score = 0\n",
        "  scores = []\n",
        "  for i in np.arange(0.1, 1.0, 0.01):\n",
        "    score = fbeta_score(y_true, np.array(y_pred) > i, beta=beta)\n",
        "    scores.append(score)\n",
        "    if score > best_score:\n",
        "      best_thresh = i\n",
        "      best_score = score\n",
        "  return best_thresh, scores\n",
        "\n",
        "def my_roc_curve(y_true, y_pred):\n",
        "  desc_score_indices = np.argsort(y_pred, kind=\"mergesort\")[::-1]\n",
        "  y_pred_desc = y_pred[desc_score_indices]\n",
        "  y_true_desc = y_true[desc_score_indices]\n",
        "  distinct_value_indices = np.where(np.diff(y_pred_desc))[0]\n",
        "  threshold_idxs = np.r_[distinct_value_indices, y_true.size - 1]\n",
        "\n",
        "  tps = np.cumsum(y_true_desc * 1)[threshold_idxs]\n",
        "  fps = 1 + threshold_idxs - tps\n",
        "\n",
        "  tps = np.r_[0, tps]\n",
        "  fps = np.r_[0, fps]\n",
        "\n",
        "  fpr = fps / fps[-1]\n",
        "  tpr = tps / tps[-1]\n",
        "\n",
        "  return fpr, tpr, y_pred[threshold_idxs]"
      ],
      "execution_count": 0,
      "outputs": []
    },
    {
      "cell_type": "markdown",
      "metadata": {
        "id": "lIff76-PbWHS",
        "colab_type": "text"
      },
      "source": [
        "### Recall (Sensitivity) or True Positive Rate (TPR)\n",
        "Recall is a valid choice of evaluation metric when we want to capture as many positives as possible. For example: If we are building a system to predict if a person has cancer or not, we want to capture the disease even if we are not very sure.  \n",
        "\n",
        "\\begin{equation*}\n",
        "TRP = \\frac{TP}{TP + FN}\n",
        "\\end{equation*}\n",
        "\n",
        "With increase of FN, TRP will decline. If FN=0, TRP=1. We don't care about FP.\n",
        "### Precision or Positive Predictive Value (PPV)\n",
        "Precision is a valid choice of evaluation metric when we want to be very sure of our prediction. For example: If we are building a system to predict if we should decrease the credit limit on a particular account, we want to be very sure about our prediction or it may result in customer dissatisfaction. \n",
        "\n",
        "\\begin{equation*}\n",
        "PPV = \\frac{TP}{TP + FP}\n",
        "\\end{equation*}\n",
        "\n",
        "With increse of FP, PPV will decline. If FP=0, PPV=1\n",
        "### Accuracy (ACC)\n",
        "Accuracy is a valid choice of evaluation for classification problems which are well balanced and not skewed or No class imbalance. \n",
        "\n",
        "\\begin{equation*}\n",
        "PPV = \\frac{TP + TN}{TP + TN + FP + FN}\n",
        "\\end{equation*}\n",
        "\n",
        "Accuracy simply means the percentage of correct observations.\n",
        "### F1 score\n",
        "It’s the harmonic mean between precision and recall.\n",
        "\\begin{equation*}\n",
        "F_1 = 2*\\frac{Precision * Recall}{Precision + Recall}\n",
        "\\end{equation*}\n",
        "\n",
        "### F1 score with Beta\n",
        "When choosing beta in your F-beta score the more you care about recall over precision the higher beta you should choose.\n",
        "\\begin{equation*}\n",
        "F_1 = (1+\\beta^2)*\\frac{Precision * Recall}{(\\beta^2*Precision) + Recall}\n",
        "\\end{equation*}"
      ]
    },
    {
      "cell_type": "code",
      "metadata": {
        "id": "UIMFsez7gFFO",
        "colab_type": "code",
        "outputId": "1062304d-e5f2-4a4d-a30c-2f8cbe6701f6",
        "colab": {
          "base_uri": "https://localhost:8080/",
          "height": 85
        }
      },
      "source": [
        "tp, tn, fp, fn = calc_tfpn(y_true, y_pred)\n",
        "\n",
        "print('True Positive (TP): {}'.format(tp))\n",
        "print('True Negative (TN): {}'.format(tn))\n",
        "print('False Positive (FP): {}'.format(fp))\n",
        "print('False Negative (FN): {}'.format(fn))"
      ],
      "execution_count": 5,
      "outputs": [
        {
          "output_type": "stream",
          "text": [
            "True Positive (TP): 140\n",
            "True Negative (TN): 82\n",
            "False Positive (FP): 2\n",
            "False Negative (FN): 4\n"
          ],
          "name": "stdout"
        }
      ]
    },
    {
      "cell_type": "code",
      "metadata": {
        "id": "hU64ow4Bghra",
        "colab_type": "code",
        "colab": {}
      },
      "source": [
        "# Recall (Sensitivity) or True Positive Rate (TPR)\n",
        "# TPR = TP / (TP + FN)\n",
        "tpr = tp / (tp + fn)\n",
        "\n",
        "# Precision or Positive Predictive Value (PPV)\n",
        "# PPV = TP / (TP + FP) \n",
        "ppv = tp / (tp + fp)\n",
        "\n",
        "# Specificity or Selectivity or True Negative Rate (TNR)\n",
        "tnr = tn / (tn + fp)\n",
        "\n",
        "# Accuracy (ACC)\n",
        "acc = (tp + tn) / (tp + tn + fp + fn)\n",
        "\n",
        "# F1 score\n",
        "f1 = 2 * (ppv * tpr) / (ppv + tpr)"
      ],
      "execution_count": 0,
      "outputs": []
    },
    {
      "cell_type": "code",
      "metadata": {
        "id": "M5Y2DU9TfZZo",
        "colab_type": "code",
        "outputId": "0266ce5a-75ca-4cd9-9a7a-5e30df6ac746",
        "colab": {
          "base_uri": "https://localhost:8080/",
          "height": 102
        }
      },
      "source": [
        "print(\"Recall (TPR): {:.2f}\".format(tpr))\n",
        "print('Precision (PPV): {:.2f}'.format(ppv))\n",
        "print('Specificity (TNR): {:.2f}'.format(tnr))\n",
        "print('Accuracy (ACC): {:.2f}'.format(acc))\n",
        "print('F1 score (F1): {:.4f}'.format(f1))"
      ],
      "execution_count": 7,
      "outputs": [
        {
          "output_type": "stream",
          "text": [
            "Recall (TPR): 0.97\n",
            "Precision (PPV): 0.99\n",
            "Specificity (TNR): 0.98\n",
            "Accuracy (ACC): 0.97\n",
            "F1 score (F1): 0.9790\n"
          ],
          "name": "stdout"
        }
      ]
    },
    {
      "cell_type": "code",
      "metadata": {
        "id": "8HlUsH-DfmQP",
        "colab_type": "code",
        "outputId": "c9d5e2a6-3005-4193-b05b-eefc2b78644c",
        "colab": {
          "base_uri": "https://localhost:8080/",
          "height": 34
        }
      },
      "source": [
        "f1_score(y_true, y_pred)"
      ],
      "execution_count": 8,
      "outputs": [
        {
          "output_type": "execute_result",
          "data": {
            "text/plain": [
              "0.979020979020979"
            ]
          },
          "metadata": {
            "tags": []
          },
          "execution_count": 8
        }
      ]
    },
    {
      "cell_type": "code",
      "metadata": {
        "id": "LoGpOaJGBsW6",
        "colab_type": "code",
        "colab": {}
      },
      "source": [
        "j, scores = best_thresold(y_true, y_pred_proba)"
      ],
      "execution_count": 0,
      "outputs": []
    },
    {
      "cell_type": "code",
      "metadata": {
        "id": "0-LHX_tv093V",
        "colab_type": "code",
        "colab": {}
      },
      "source": [
        "a = np.arange(0.1, 1.0, 0.01)"
      ],
      "execution_count": 0,
      "outputs": []
    },
    {
      "cell_type": "code",
      "metadata": {
        "id": "bSUTeNbz04gT",
        "colab_type": "code",
        "colab": {
          "base_uri": "https://localhost:8080/",
          "height": 312
        },
        "outputId": "bba8f5f0-e1f5-4ab4-c99a-8c992dc784de"
      },
      "source": [
        "plt.plot(a, scores)\n",
        "plt.ylabel('score')\n",
        "plt.xlabel('thresold')\n",
        "plt.title('F1 score')"
      ],
      "execution_count": 46,
      "outputs": [
        {
          "output_type": "execute_result",
          "data": {
            "text/plain": [
              "Text(0.5, 1.0, 'F1 score')"
            ]
          },
          "metadata": {
            "tags": []
          },
          "execution_count": 46
        },
        {
          "output_type": "display_data",
          "data": {
            "image/png": "[encoded data removed]",
            "text/plain": [
              "<Figure size 432x288 with 1 Axes>"
            ]
          },
          "metadata": {
            "tags": []
          }
        }
      ]
    },
    {
      "cell_type": "code",
      "metadata": {
        "id": "u9r9eT6UWdyT",
        "colab_type": "code",
        "colab": {}
      },
      "source": [
        ""
      ],
      "execution_count": 0,
      "outputs": []
    },
    {
      "cell_type": "code",
      "metadata": {
        "id": "T_fpY15Xtkmb",
        "colab_type": "code",
        "colab": {
          "base_uri": "https://localhost:8080/",
          "height": 312
        },
        "outputId": "2c014133-5545-43d2-bde5-39bfd9f5737b"
      },
      "source": [
        "_, scores0 = best_thresold_beta(y_true, y_pred_proba, beta=0.1)\n",
        "_, scores1 = best_thresold_beta(y_true, y_pred_proba, beta=0.5)\n",
        "_, scores2 = best_thresold_beta(y_true, y_pred_proba, beta=1)\n",
        "_, scores3 = best_thresold_beta(y_true, y_pred_proba, beta=2)\n",
        "_, scores4 = best_thresold_beta(y_true, y_pred_proba, beta=10)\n",
        "\n",
        "plt.plot(a, scores0, label='beta=0.1')\n",
        "plt.plot(a, scores1, label='beta=0.5')\n",
        "plt.plot(a, scores2, label='beta=1')\n",
        "plt.plot(a, scores3, label='beta=2')\n",
        "plt.plot(a, scores4, label='beta=10')\n",
        "plt.ylabel('thresolds')\n",
        "plt.xlabel('n')\n",
        "plt.title('F1 score with Beta')\n",
        "plt.legend(loc=\"right\",  bbox_to_anchor=(1.3, 0.7))"
      ],
      "execution_count": 53,
      "outputs": [
        {
          "output_type": "execute_result",
          "data": {
            "text/plain": [
              "<matplotlib.legend.Legend at 0x7f077bc97eb8>"
            ]
          },
          "metadata": {
            "tags": []
          },
          "execution_count": 53
        },
        {
          "output_type": "display_data",
          "data": {
            "image/png": "[encoded data removed]",
            "text/plain": [
              "<Figure size 432x288 with 1 Axes>"
            ]
          },
          "metadata": {
            "tags": []
          }
        }
      ]
    },
    {
      "cell_type": "code",
      "metadata": {
        "id": "tDGf7T0uWerZ",
        "colab_type": "code",
        "colab": {
          "base_uri": "https://localhost:8080/",
          "height": 282
        },
        "outputId": "7d738df9-4d7f-422e-f86d-c5fdc007fd36"
      },
      "source": [
        "fpr, tpr, thresolds = my_roc_curve(y_true, y_pred_proba)\n",
        "\n",
        "plt.plot(fpr, tpr)\n",
        "plt.plot([0, 1], [0, 1], linestyle='--', lw=2, color='r', label='Chance', alpha=.8)"
      ],
      "execution_count": 11,
      "outputs": [
        {
          "output_type": "execute_result",
          "data": {
            "text/plain": [
              "[<matplotlib.lines.Line2D at 0x7f077cf289b0>]"
            ]
          },
          "metadata": {
            "tags": []
          },
          "execution_count": 11
        },
        {
          "output_type": "display_data",
          "data": {
            "image/png": "[encoded data removed]",
            "text/plain": [
              "<Figure size 432x288 with 1 Axes>"
            ]
          },
          "metadata": {
            "tags": []
          }
        }
      ]
    },
    {
      "cell_type": "code",
      "metadata": {
        "id": "XlSb0WkiiCWn",
        "colab_type": "code",
        "colab": {}
      },
      "source": [
        "fpr, tpr, thresholds = metrics.roc_curve(y_true, y_pred_proba)"
      ],
      "execution_count": 0,
      "outputs": []
    },
    {
      "cell_type": "code",
      "metadata": {
        "id": "mnQBYeynSdaj",
        "colab_type": "code",
        "outputId": "52891af6-6c43-497c-fe0a-c7754b37d212",
        "colab": {
          "base_uri": "https://localhost:8080/",
          "height": 282
        }
      },
      "source": [
        "plt.plot(fpr, tpr)\n",
        "plt.plot([0, 1], [0, 1], linestyle='--', lw=2, color='r', label='Chance', alpha=.8)"
      ],
      "execution_count": 13,
      "outputs": [
        {
          "output_type": "execute_result",
          "data": {
            "text/plain": [
              "[<matplotlib.lines.Line2D at 0x7f077cf28a90>]"
            ]
          },
          "metadata": {
            "tags": []
          },
          "execution_count": 13
        },
        {
          "output_type": "display_data",
          "data": {
            "image/png": "[encoded data removed]",
            "text/plain": [
              "<Figure size 432x288 with 1 Axes>"
            ]
          },
          "metadata": {
            "tags": []
          }
        }
      ]
    },
    {
      "cell_type": "code",
      "metadata": {
        "id": "wcLqkvvfYNa1",
        "colab_type": "code",
        "colab": {
          "base_uri": "https://localhost:8080/",
          "height": 34
        },
        "outputId": "a4f04f1e-1573-4497-d49f-c06618ca95a8"
      },
      "source": [
        "roc_auc_score(y_true, y_pred)"
      ],
      "execution_count": 58,
      "outputs": [
        {
          "output_type": "execute_result",
          "data": {
            "text/plain": [
              "0.969701932525385"
            ]
          },
          "metadata": {
            "tags": []
          },
          "execution_count": 58
        }
      ]
    },
    {
      "cell_type": "code",
      "metadata": {
        "id": "MNzRs0EPYRqj",
        "colab_type": "code",
        "colab": {}
      },
      "source": [
        ""
      ],
      "execution_count": 0,
      "outputs": []
    },
    {
      "cell_type": "code",
      "metadata": {
        "id": "wapI9z41blGL",
        "colab_type": "code",
        "colab": {}
      },
      "source": [
        ""
      ],
      "execution_count": 0,
      "outputs": []
    },
    {
      "cell_type": "code",
      "metadata": {
        "id": "yGJZ082Gbp27",
        "colab_type": "code",
        "colab": {}
      },
      "source": [
        ""
      ],
      "execution_count": 0,
      "outputs": []
    },
    {
      "cell_type": "code",
      "metadata": {
        "id": "IOtkqx-7bz1L",
        "colab_type": "code",
        "colab": {}
      },
      "source": [
        ""
      ],
      "execution_count": 0,
      "outputs": []
    },
    {
      "cell_type": "code",
      "metadata": {
        "id": "gah3Ejkhb5Rs",
        "colab_type": "code",
        "colab": {}
      },
      "source": [
        ""
      ],
      "execution_count": 0,
      "outputs": []
    },
    {
      "cell_type": "code",
      "metadata": {
        "id": "TSHkIM9Zi9AW",
        "colab_type": "code",
        "colab": {}
      },
      "source": [
        ""
      ],
      "execution_count": 0,
      "outputs": []
    },
    {
      "cell_type": "code",
      "metadata": {
        "id": "xthaK9jDcFKq",
        "colab_type": "code",
        "colab": {}
      },
      "source": [
        ""
      ],
      "execution_count": 0,
      "outputs": []
    },
    {
      "cell_type": "code",
      "metadata": {
        "id": "AQ-oan5PczVD",
        "colab_type": "code",
        "colab": {}
      },
      "source": [
        ""
      ],
      "execution_count": 0,
      "outputs": []
    },
    {
      "cell_type": "code",
      "metadata": {
        "id": "J4kKgGFpc1wu",
        "colab_type": "code",
        "colab": {}
      },
      "source": [
        ""
      ],
      "execution_count": 0,
      "outputs": []
    },
    {
      "cell_type": "code",
      "metadata": {
        "id": "M-22OjNMdi7E",
        "colab_type": "code",
        "colab": {}
      },
      "source": [
        ""
      ],
      "execution_count": 0,
      "outputs": []
    },
    {
      "cell_type": "code",
      "metadata": {
        "id": "y-5gHkZBd03k",
        "colab_type": "code",
        "colab": {}
      },
      "source": [
        ""
      ],
      "execution_count": 0,
      "outputs": []
    }
  ]
}

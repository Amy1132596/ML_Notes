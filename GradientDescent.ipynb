{
  "nbformat": 4,
  "nbformat_minor": 0,
  "metadata": {
    "colab": {
      "name": "GradientDescent.ipynb",
      "provenance": [],
      "include_colab_link": true
    },
    "kernelspec": {
      "name": "python3",
      "display_name": "Python 3"
    }
  },
  "cells": [
    {
      "cell_type": "markdown",
      "metadata": {
        "id": "view-in-github",
        "colab_type": "text"
      },
      "source": [
        "<a href=\"https://colab.research.google.com/github/vitalfedorov/ML_Notes/blob/master/GradientDescent.ipynb\" target=\"_parent\"><img src=\"https://colab.research.google.com/assets/colab-badge.svg\" alt=\"Open In Colab\"/></a>"
      ]
    },
    {
      "cell_type": "code",
      "metadata": {
        "id": "KgaRtoE84epS",
        "colab_type": "code",
        "colab": {}
      },
      "source": [
        "import numpy as np\n",
        "import matplotlib.pyplot as plt"
      ],
      "execution_count": 0,
      "outputs": []
    },
    {
      "cell_type": "code",
      "metadata": {
        "id": "tYgQCZFH4qTE",
        "colab_type": "code",
        "colab": {}
      },
      "source": [
        "def func(x):\n",
        "  return (x+5)**2\n",
        "\n",
        "def derivative(x0, x1):\n",
        "  dy = func(x1) - func(x0)\n",
        "  dx = x1 - x0\n",
        "  return dy/dx, 2 * (x0 + 5)"
      ],
      "execution_count": 0,
      "outputs": []
    },
    {
      "cell_type": "code",
      "metadata": {
        "id": "0PP-WWWB4vf3",
        "colab_type": "code",
        "colab": {
          "base_uri": "https://localhost:8080/",
          "height": 282
        },
        "outputId": "4116d619-934c-4512-b87d-23d1e822dbc4"
      },
      "source": [
        "x = np.arange(-1000, 1000, 1)\n",
        "y = func(x)\n",
        "plt.plot(x, y)"
      ],
      "execution_count": 4,
      "outputs": [
        {
          "output_type": "execute_result",
          "data": {
            "text/plain": [
              "[<matplotlib.lines.Line2D at 0x7f4652fe26d8>]"
            ]
          },
          "metadata": {
            "tags": []
          },
          "execution_count": 4
        },
        {
          "output_type": "display_data",
          "data": {
            "image/png": "[encoded data removed]",
            "text/plain": [
              "<Figure size 432x288 with 1 Axes>"
            ]
          },
          "metadata": {
            "tags": []
          }
        }
      ]
    },
    {
      "cell_type": "code",
      "metadata": {
        "id": "y3jmX8Xc48Gn",
        "colab_type": "code",
        "colab": {
          "base_uri": "https://localhost:8080/",
          "height": 34
        },
        "outputId": "fbe61515-a46e-415e-cb3a-22f64b9d8e6a"
      },
      "source": [
        "delta = 0.0001\n",
        "a, b = derivative(3, 3 + delta)\n",
        "print(f'{a:.4f}', b)"
      ],
      "execution_count": 5,
      "outputs": [
        {
          "output_type": "stream",
          "text": [
            "16.0001 16\n"
          ],
          "name": "stdout"
        }
      ]
    },
    {
      "cell_type": "code",
      "metadata": {
        "id": "HzhxcrnF5B0f",
        "colab_type": "code",
        "colab": {
          "base_uri": "https://localhost:8080/",
          "height": 34
        },
        "outputId": "cc088e80-4db4-40ad-bde6-0f69d00d4aa0"
      },
      "source": [
        "a, b = derivative(100, 100 + delta)\n",
        "print(f'{a:.4f}', b)"
      ],
      "execution_count": 6,
      "outputs": [
        {
          "output_type": "stream",
          "text": [
            "210.0001 210\n"
          ],
          "name": "stdout"
        }
      ]
    },
    {
      "cell_type": "code",
      "metadata": {
        "id": "52PL2Pcb5Pin",
        "colab_type": "code",
        "colab": {
          "base_uri": "https://localhost:8080/",
          "height": 34
        },
        "outputId": "e292d8f4-94a6-4f64-f159-f0de96180c56"
      },
      "source": [
        "a, b = derivative(-5, -5 + delta)\n",
        "print(f'{a:.4f}', b)"
      ],
      "execution_count": 7,
      "outputs": [
        {
          "output_type": "stream",
          "text": [
            "0.0001 0\n"
          ],
          "name": "stdout"
        }
      ]
    },
    {
      "cell_type": "code",
      "metadata": {
        "id": "Iag97vod5Uqv",
        "colab_type": "code",
        "colab": {}
      },
      "source": [
        "x0 = 3\n",
        "learning_rate = 0.001\n",
        "max_iter = 10000"
      ],
      "execution_count": 0,
      "outputs": []
    },
    {
      "cell_type": "code",
      "metadata": {
        "id": "bdS0E_kI6qBt",
        "colab_type": "code",
        "colab": {
          "base_uri": "https://localhost:8080/",
          "height": 187
        },
        "outputId": "d9ead92b-b557-4bae-9dd6-a3c1c6f8e9b1"
      },
      "source": [
        "for i in range(max_iter):\n",
        "  gradient = 2 * (x0 + 5)\n",
        "  x0 = x0 - learning_rate * (gradient)\n",
        "  if (i % 1000) == 0:\n",
        "    print(f'{x0:.4f}')"
      ],
      "execution_count": 20,
      "outputs": [
        {
          "output_type": "stream",
          "text": [
            "2.9840\n",
            "-3.9216\n",
            "-4.8544\n",
            "-4.9803\n",
            "-4.9973\n",
            "-4.9996\n",
            "-5.0000\n",
            "-5.0000\n",
            "-5.0000\n",
            "-5.0000\n"
          ],
          "name": "stdout"
        }
      ]
    },
    {
      "cell_type": "code",
      "metadata": {
        "id": "mqjqnTnmHHt9",
        "colab_type": "code",
        "colab": {}
      },
      "source": [
        ""
      ],
      "execution_count": 0,
      "outputs": []
    }
  ]
}
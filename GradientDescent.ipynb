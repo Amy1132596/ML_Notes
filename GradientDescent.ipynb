{
  "nbformat": 4,
  "nbformat_minor": 0,
  "metadata": {
    "colab": {
      "name": "GradientDescent.ipynb",
      "provenance": [],
      "include_colab_link": true
    },
    "kernelspec": {
      "name": "python3",
      "display_name": "Python 3"
    }
  },
  "cells": [
    {
      "cell_type": "markdown",
      "metadata": {
        "id": "view-in-github",
        "colab_type": "text"
      },
      "source": [
        "<a href=\"https://colab.research.google.com/github/vitalfedorov/ML_Notes/blob/master/GradientDescent.ipynb\" target=\"_parent\"><img src=\"https://colab.research.google.com/assets/colab-badge.svg\" alt=\"Open In Colab\"/></a>"
      ]
    },
    {
      "cell_type": "markdown",
      "metadata": {
        "id": "8y_JkTp4S3ht"
      },
      "source": [
        "Let's define a function:\n",
        "\\begin{equation*}\n",
        "y = (x+5)^2\n",
        "\\end{equation*}\n",
        "The derivative of this function will be:\n",
        "\\begin{equation*}\n",
        "y' = 2*(x+5)\n",
        "\\end{equation*}"
      ]
    },
    {
      "cell_type": "code",
      "metadata": {
        "id": "KgaRtoE84epS"
      },
      "source": [
        "import numpy as np\n",
        "import matplotlib.pyplot as plt"
      ],
      "execution_count": null,
      "outputs": []
    },
    {
      "cell_type": "code",
      "metadata": {
        "id": "tYgQCZFH4qTE"
      },
      "source": [
        "def func(x):\n",
        "  '''\n",
        "  That's the function that we have defined\n",
        "  '''\n",
        "  return (x+5)**2\n",
        "\n",
        "def derivative(x0, x1):\n",
        "  '''\n",
        "  This function calculates the derivative of our function\n",
        "  First return value: ratio of difference between functions of input points and values of input points\n",
        "  Second return value: value of derivative at first point\n",
        "  '''\n",
        "  dy = func(x1) - func(x0)\n",
        "  dx = x1 - x0\n",
        "  return dy/dx, 2 * (x0 + 5)"
      ],
      "execution_count": null,
      "outputs": []
    },
    {
      "cell_type": "markdown",
      "metadata": {
        "id": "jshJ9p2LUZ3X"
      },
      "source": [
        "Plot of our function"
      ]
    },
    {
      "cell_type": "code",
      "metadata": {
        "id": "0PP-WWWB4vf3",
        "colab": {
          "base_uri": "https://localhost:8080/",
          "height": 282
        },
        "outputId": "6cdec827-5dc4-478f-e568-5dceb85f47b0"
      },
      "source": [
        "x = np.arange(-500, 500, 1)\n",
        "y = func(x)\n",
        "plt.plot(x, y)"
      ],
      "execution_count": null,
      "outputs": [
        {
          "output_type": "execute_result",
          "data": {
            "text/plain": [
              "[<matplotlib.lines.Line2D at 0x7f6e6463a990>]"
            ]
          },
          "metadata": {},
          "execution_count": 3
        },
        {
          "output_type": "display_data",
          "data": {
            "image/png": "[encoded data removed]",
            "text/plain": [
              "<Figure size 432x288 with 1 Axes>"
            ]
          },
          "metadata": {
            "needs_background": "light"
          }
        }
      ]
    },
    {
      "cell_type": "markdown",
      "metadata": {
        "id": "6ieJ2_C7Uuo1"
      },
      "source": [
        "Our function has minimum ($y=0$) at point $x=-5$\n",
        "As we know, the derivative is a slope of the tangent line of the graph at the given point. It shows how y variable changes compared to how x is changing."
      ]
    },
    {
      "cell_type": "markdown",
      "metadata": {
        "id": "KCxelMfmMt78"
      },
      "source": [
        "Let's calculate the derivative at several points."
      ]
    },
    {
      "cell_type": "code",
      "metadata": {
        "id": "y3jmX8Xc48Gn",
        "colab": {
          "base_uri": "https://localhost:8080/"
        },
        "outputId": "c403d15f-25b4-46c8-ba46-1098325a25a9"
      },
      "source": [
        "delta = 0.001\n",
        "a, b = derivative(3, 3 + delta)\n",
        "print(f'{a:.4f} {b:.0f}')"
      ],
      "execution_count": null,
      "outputs": [
        {
          "output_type": "stream",
          "text": [
            "16.0010 16\n"
          ],
          "name": "stdout"
        }
      ]
    },
    {
      "cell_type": "code",
      "metadata": {
        "id": "HzhxcrnF5B0f",
        "colab": {
          "base_uri": "https://localhost:8080/"
        },
        "outputId": "35fc7db6-a470-437a-ac67-15387edf6df1"
      },
      "source": [
        "a, b = derivative(2, 2 + delta)\n",
        "print(f'{a:.4f} {b:.0f}')"
      ],
      "execution_count": null,
      "outputs": [
        {
          "output_type": "stream",
          "text": [
            "14.0010 14\n"
          ],
          "name": "stdout"
        }
      ]
    },
    {
      "cell_type": "code",
      "metadata": {
        "id": "B8mMSllLL_34",
        "colab": {
          "base_uri": "https://localhost:8080/"
        },
        "outputId": "8ed1fc36-f260-4f7d-897c-58bd288a5331"
      },
      "source": [
        "a, b = derivative(1, 1 + delta)\n",
        "print(f'{a:.4f} {b:.0f}')"
      ],
      "execution_count": null,
      "outputs": [
        {
          "output_type": "stream",
          "text": [
            "12.0010 12\n"
          ],
          "name": "stdout"
        }
      ]
    },
    {
      "cell_type": "code",
      "metadata": {
        "id": "52PL2Pcb5Pin",
        "colab": {
          "base_uri": "https://localhost:8080/"
        },
        "outputId": "47a897f8-9474-4529-ff8b-d4f7114c7140"
      },
      "source": [
        "a, b = derivative(-5, -5 + delta)\n",
        "print(f'{a:.4f} {b:.0f}')"
      ],
      "execution_count": null,
      "outputs": [
        {
          "output_type": "stream",
          "text": [
            "0.0010 0\n"
          ],
          "name": "stdout"
        }
      ]
    },
    {
      "cell_type": "markdown",
      "metadata": {
        "id": "g-8H0EHKM8J_"
      },
      "source": [
        "As we can see the value of derivative for our function decreases as we decrease values of input points. At point $x=-5$ the derivative is equal to zero (maxima and minima or extremum)."
      ]
    },
    {
      "cell_type": "markdown",
      "metadata": {
        "id": "nZY5eejDOAZG"
      },
      "source": [
        "Now we can develop gradient descent algorithm. Here gradient simply means the gradual change in the particular direction. To calculate gradient we calculate the value of the derivative function at an initial point. Then we reduce this value by the value of the learning rate. Finally, we subtract reduced value from the initial point and repeat this process again."
      ]
    },
    {
      "cell_type": "code",
      "metadata": {
        "id": "Iag97vod5Uqv"
      },
      "source": [
        "x0 = 5\n",
        "learning_rate = 0.001\n",
        "max_iter = 10000"
      ],
      "execution_count": null,
      "outputs": []
    },
    {
      "cell_type": "code",
      "metadata": {
        "id": "bdS0E_kI6qBt",
        "colab": {
          "base_uri": "https://localhost:8080/"
        },
        "outputId": "0087c2f9-c9ee-40ea-b6fe-7b1dd400f2ea"
      },
      "source": [
        "for i in range(max_iter):\n",
        "  gradient = 2 * (x0 + 5)\n",
        "  _x = x0\n",
        "  x0 = x0 - learning_rate * (gradient)\n",
        "  if _x - x0 < 0.0000001:\n",
        "    print(f'{x0:.4f}')\n",
        "    print('Early stop')\n",
        "    break\n",
        "  if (i % 1000) == 0:\n",
        "    print(f'{x0:.4f}')"
      ],
      "execution_count": null,
      "outputs": [
        {
          "output_type": "stream",
          "text": [
            "4.9800\n",
            "-3.6521\n",
            "-4.8179\n",
            "-4.9754\n",
            "-4.9967\n",
            "-4.9996\n",
            "-4.9999\n",
            "-5.0000\n",
            "Early stop\n"
          ],
          "name": "stdout"
        }
      ]
    },
    {
      "cell_type": "code",
      "metadata": {
        "id": "mqjqnTnmHHt9"
      },
      "source": [
        ""
      ],
      "execution_count": null,
      "outputs": []
    },
    {
      "cell_type": "code",
      "metadata": {
        "id": "ui-uGyS4ok9f"
      },
      "source": [
        ""
      ],
      "execution_count": null,
      "outputs": []
    }
  ]
}